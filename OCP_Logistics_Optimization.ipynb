{
  "nbformat": 4,
  "nbformat_minor": 0,
  "metadata": {
    "colab": {
      "name": "OCP Logistics Optimization.ipynb",
      "provenance": [],
      "collapsed_sections": []
    },
    "kernelspec": {
      "name": "python3",
      "display_name": "Python 3"
    },
    "language_info": {
      "name": "python"
    }
  },
  "cells": [
    {
      "cell_type": "markdown",
      "source": [
        "## Setup and Imports"
      ],
      "metadata": {
        "id": "WivMyFJfGdpV"
      }
    },
    {
      "cell_type": "code",
      "source": [
        "#!pip install gurobipy  # install gurobipy, if not already installed\n",
        "#import gurobipy as gp  # import the installed package\n",
        "#!pip install cplex\n",
        "#!pip install docplex\n",
        "!pip install pulp\n",
        "import pulp as pl"
      ],
      "metadata": {
        "id": "b6MlcHbRT13I",
        "colab": {
          "base_uri": "https://localhost:8080/"
        },
        "outputId": "36039162-bcec-4fa8-a071-8e360051bb17"
      },
      "execution_count": null,
      "outputs": [
        {
          "output_type": "stream",
          "name": "stdout",
          "text": [
            "Requirement already satisfied: pulp in /usr/local/lib/python3.7/dist-packages (2.6.0)\n"
          ]
        }
      ]
    },
    {
      "cell_type": "code",
      "source": [
        "import pandas as pd\n",
        "import numpy as np\n",
        "from pulp import LpMaximize, LpProblem, LpStatus, lpSum, LpVariable,LpMinimize\n",
        "import pulp\n",
        "from openpyxl import Workbook"
      ],
      "metadata": {
        "id": "ST5Bof9x6JOv"
      },
      "execution_count": null,
      "outputs": []
    },
    {
      "cell_type": "markdown",
      "source": [
        "## Create Classes"
      ],
      "metadata": {
        "id": "701oJs_bGj7A"
      }
    },
    {
      "cell_type": "code",
      "source": [
        "class Blender:\n",
        "    def __init__(self,location,type_blender,capacity):\n",
        "        self.location=location\n",
        "        self.type=type_blender\n",
        "        self.capacity=capacity\n",
        "    def  __repr__(self) :\n",
        "        return \"Blender in \" + str(self.location)\n",
        "class Recette:\n",
        "  def __init__(self, nom, location, composition,quantite):\n",
        "    self.nom = nom\n",
        "    self.location = location\n",
        "    self.composition = composition\n",
        "    self.quantite = quantite\n",
        "    def  __repr__(self) :\n",
        "        return \"Recette from \" + str(self.location)\n",
        "  \n",
        "### Stockage class :\n",
        "class Stockage:\n",
        "    def __init__(self,location,capacity):\n",
        "        self.location=location\n",
        "        self.capacity=capacity\n",
        "    def  __repr__(self) :\n",
        "        return \"Stockage in \" + str(self.location)\n",
        "### Supplier class :\n",
        "class Supplier:\n",
        "    def __init__(self,location,MP):\n",
        "        self.location=location\n",
        "        self.MP=MP\n",
        "    def  __repr__(self) :\n",
        "        return \"Supplier in \" + str(self.location)"
      ],
      "metadata": {
        "id": "MUeH7jeXZTOo"
      },
      "execution_count": null,
      "outputs": []
    },
    {
      "cell_type": "markdown",
      "source": [
        "## Read Data from the Excel File"
      ],
      "metadata": {
        "id": "ZSybqGiVGqxh"
      }
    },
    {
      "cell_type": "code",
      "source": [
        "blender_file=pd.read_excel(\"small_data.xlsx\",sheet_name=\"Blenders\")\n",
        "stockage_file=pd.read_excel(\"small_data.xlsx\",sheet_name=\"Stockage\")\n",
        "supplier_file=pd.read_excel(\"small_data.xlsx\",sheet_name=\"Capacité source\",header=None)\n",
        "path = 'small_data.xlsx'\n",
        "file = pd.read_excel(path,sheet_name='Recettes')\n",
        "file_demande = pd.read_excel(path,sheet_name='Demande')\n",
        "mp=pd.read_excel(\"small_data.xlsx\",sheet_name=\"MP\")\n",
        "cout_transport_amont=pd.read_excel(\"small_data.xlsx\",sheet_name=\"Cout de transport  Amont\")\n",
        "cout_transport_aval=pd.read_excel(\"small_data.xlsx\",sheet_name=\"Cout de transport aval\")"
      ],
      "metadata": {
        "id": "DUmwKRE_Z7RH"
      },
      "execution_count": null,
      "outputs": []
    },
    {
      "cell_type": "markdown",
      "source": [
        "## Creating Objects and Dataframes\n",
        "\n",
        "From the data we have just imported we could new create objects and dataframes out of it for later access.\n",
        "\n",
        "*   **Blenders**\n",
        "\n"
      ],
      "metadata": {
        "id": "EDXUor8AGwTn"
      }
    },
    {
      "cell_type": "code",
      "source": [
        "Capacity_new_smart_blender=3000\n",
        "Capacity_new_blender=12000\n",
        "\n",
        "l1=[]\n",
        "l2=[]\n",
        "l3=[]\n",
        "for i in range(len(blender_file)):\n",
        "    if blender_file.iloc[i, 1]==1:\n",
        "        l1.append({\"location\":blender_file.iloc[i, 0],\"type_blender\":\"B\",\"capacity\":blender_file.iloc[i, 3]})\n",
        "    if blender_file.iloc[i, 2]==1:\n",
        "        l1.append({\"location\":blender_file.iloc[i, 0],\"type_blender\":\"SB\",\"capacity\":blender_file.iloc[i, 4]})\n",
        "    if blender_file.iloc[i, 2]!=1  and blender_file.iloc[i, 1]!=1:\n",
        "        l1.append({\"location\":blender_file.iloc[i, 0],\"type_blender\":\"B\",\"capacity\":0})\n",
        "blenders = pd.DataFrame(l1)\n",
        "\n",
        "list_blenders=[]\n",
        "for i in range(len(blenders)):\n",
        "    list_blenders.append(Blender(blenders.iloc[i,0],blenders.iloc[i, 1],blenders.iloc[i, 2]))\n"
      ],
      "metadata": {
        "id": "cTlBz3mHayEh"
      },
      "execution_count": null,
      "outputs": []
    },
    {
      "cell_type": "markdown",
      "source": [
        "\n",
        "\n",
        "*   **Recettes**\n",
        "\n",
        "\n",
        "\n",
        "\n"
      ],
      "metadata": {
        "id": "y18MpwpbHXFC"
      }
    },
    {
      "cell_type": "code",
      "source": [
        "n,m = file.shape\n",
        "a,b = file_demande.shape\n",
        "list_recettes = []\n",
        "provinces = list(file['Province'])\n",
        "col = file.columns \n",
        "col1 = file_demande.columns\n",
        "periode = list(col1[2:6])\n",
        "for i in range(n):\n",
        "    obj = file.loc[i]\n",
        "    dic1 ={}\n",
        "    dict2={}\n",
        "    for k in range(7):\n",
        "        dic1[col[k+2]] = obj[k+2]\n",
        "    for j in range(len(periode)): \n",
        "        store_df = file_demande\n",
        "        store_df_filtered = store_df[store_df['Province'].isin([obj[0]])]\n",
        "        quantite = float(store_df_filtered[store_df_filtered['Filière'].isin([obj[1]])][periode[j]])\n",
        "        dict2[periode[j]] = quantite\n",
        "    list_recettes.append(Recette(obj[1],obj[0],dic1,dict2))\n"
      ],
      "metadata": {
        "id": "D0eBKxOscDXl"
      },
      "execution_count": null,
      "outputs": []
    },
    {
      "cell_type": "markdown",
      "source": [
        "*   **Stockages**\n"
      ],
      "metadata": {
        "id": "URQZkj2dHkjW"
      }
    },
    {
      "cell_type": "code",
      "source": [
        "list_stockages=[]\n",
        "for i in range(len(stockage_file)):\n",
        "    list_stockages.append(Stockage(stockage_file.iloc[i, 0],stockage_file.iloc[i, 1]))\n",
        "list_stockages\n",
        "for st in list_stockages :\n",
        "  print(st.capacity)"
      ],
      "metadata": {
        "id": "VLxQbggecV-p",
        "colab": {
          "base_uri": "https://localhost:8080/"
        },
        "outputId": "17d5f978-ce58-43f3-ce6a-46cb7bdc306f"
      },
      "execution_count": null,
      "outputs": [
        {
          "output_type": "stream",
          "name": "stdout",
          "text": [
            "600\n",
            "0\n",
            "500\n",
            "0\n",
            "22800\n"
          ]
        }
      ]
    },
    {
      "cell_type": "code",
      "source": [
        "list_recettes[0].quantite"
      ],
      "metadata": {
        "colab": {
          "base_uri": "https://localhost:8080/"
        },
        "id": "ugAc__dc-2hv",
        "outputId": "9f985f62-9e11-4f84-a68f-6fafb21cf630"
      },
      "execution_count": null,
      "outputs": [
        {
          "output_type": "execute_result",
          "data": {
            "text/plain": [
              "{'Q1': 143.67180556145536, 'Q2': 23.945300926909223, 'Q3': 23.95, 'Q4': 287.34}"
            ]
          },
          "metadata": {},
          "execution_count": 326
        }
      ]
    },
    {
      "cell_type": "markdown",
      "source": [
        "*   **Suppliers**"
      ],
      "metadata": {
        "id": "J6qm7oeUHmzK"
      }
    },
    {
      "cell_type": "code",
      "source": [
        "list_suppliers=[]\n",
        "for j in range(1,len(supplier_file.columns)):\n",
        "    location=supplier_file.iloc[0, j]\n",
        "    MP={}\n",
        "    for i in range(1,len(supplier_file)):\n",
        "        MP[supplier_file.iloc[i, 0]]=supplier_file.iloc[i, j]\n",
        "    list_suppliers.append(Supplier(location,MP))\n",
        "list_suppliers[0].MP"
      ],
      "metadata": {
        "id": "MIC5602BgWEz",
        "colab": {
          "base_uri": "https://localhost:8080/"
        },
        "outputId": "c7eac085-d923-43fe-d76d-0b081112bba6"
      },
      "execution_count": null,
      "outputs": [
        {
          "output_type": "execute_result",
          "data": {
            "text/plain": [
              "{'CAN': 0,\n",
              " 'DAP': 508752000,\n",
              " 'DURAMON 26%': 0,\n",
              " 'EM': 508752000,\n",
              " 'MAP': 508752000,\n",
              " 'MOP': 0,\n",
              " 'TSP': 0}"
            ]
          },
          "metadata": {},
          "execution_count": 327
        }
      ]
    },
    {
      "cell_type": "markdown",
      "source": [
        "*   **Matieres premieres**"
      ],
      "metadata": {
        "id": "As_SmFC9Ho6L"
      }
    },
    {
      "cell_type": "code",
      "source": [
        "prix_mp={}\n",
        "for i in range(len(mp)):\n",
        "  prix_mp[mp.iloc[i,0]]=mp.iloc[i,1]\n",
        "mp = mp[mp.filter(regex='^(?!Unnamed)').columns]\n",
        "for i in range(len(mp)):\n",
        "    mp.rename(index={i: mp.iloc[i,0]}, inplace=True)\n",
        "mp.drop('MP',axis='columns', inplace=True)\n",
        "list_mp = list(mp.index)\n",
        "list_mp"
      ],
      "metadata": {
        "colab": {
          "base_uri": "https://localhost:8080/"
        },
        "id": "jSoui1LJn1ou",
        "outputId": "3552b460-25c5-44b9-a533-0a48aaad79c5"
      },
      "execution_count": null,
      "outputs": [
        {
          "output_type": "execute_result",
          "data": {
            "text/plain": [
              "['CAN', 'DURAMON 26%', 'DAP', 'EM', 'MAP', 'MOP', 'TSP']"
            ]
          },
          "metadata": {},
          "execution_count": 328
        }
      ]
    },
    {
      "cell_type": "code",
      "source": [
        "prix_recette={}\n",
        "for r in list_recettes :\n",
        "  prix_recette[r]=sum(r.composition[i]*prix_mp[i] for i in prix_mp.keys())"
      ],
      "metadata": {
        "id": "GI49FUYUMwYA"
      },
      "execution_count": null,
      "outputs": []
    },
    {
      "cell_type": "markdown",
      "source": [
        "*   **Transport_amont**"
      ],
      "metadata": {
        "id": "579hY1wzHyNN"
      }
    },
    {
      "cell_type": "code",
      "source": [
        "cout_transport_amont = cout_transport_amont[cout_transport_amont.filter(regex='^(?!Unnamed)').columns]\n",
        "\n",
        "for i in range(len(cout_transport_amont)):\n",
        "    cout_transport_amont.rename(index={i: cout_transport_amont.iloc[i,0]}, inplace=True)\n",
        "cout_transport_amont.drop('Zone',axis='columns', inplace=True)\n",
        "\n",
        "cout_transport_amont"
      ],
      "metadata": {
        "colab": {
          "base_uri": "https://localhost:8080/",
          "height": 206
        },
        "id": "M6dsmu-Z5sFP",
        "outputId": "a0907bdc-b14a-4bfd-9386-d8ffb7e86aa9"
      },
      "execution_count": null,
      "outputs": [
        {
          "output_type": "execute_result",
          "data": {
            "text/plain": [
              "                       OCP Jorf    OCP SAFI  OCP Port Casablanca  \\\n",
              "Agadir Ida-Outanane  309.002807  279.524737           293.795789   \n",
              "Benslimane           127.905614  189.013509            95.957368   \n",
              "Casablanca           108.898867  170.006762            41.210482   \n",
              "Chefchaouen          286.265088  347.372982           254.312018   \n",
              "El Jadida              0.000000  138.513158            62.207895   \n",
              "\n",
              "                     OCP Port Tanger  OCP Port Nador  \n",
              "Agadir Ida-Outanane       411.051930      497.913333  \n",
              "Benslimane                201.422281      288.274035  \n",
              "Casablanca                193.118823      279.972990  \n",
              "Chefchaouen               122.862018      343.648421  \n",
              "El Jadida                 179.464035      266.315789  "
            ],
            "text/html": [
              "\n",
              "  <div id=\"df-176b4a6d-c011-4904-99d9-35691524e3da\">\n",
              "    <div class=\"colab-df-container\">\n",
              "      <div>\n",
              "<style scoped>\n",
              "    .dataframe tbody tr th:only-of-type {\n",
              "        vertical-align: middle;\n",
              "    }\n",
              "\n",
              "    .dataframe tbody tr th {\n",
              "        vertical-align: top;\n",
              "    }\n",
              "\n",
              "    .dataframe thead th {\n",
              "        text-align: right;\n",
              "    }\n",
              "</style>\n",
              "<table border=\"1\" class=\"dataframe\">\n",
              "  <thead>\n",
              "    <tr style=\"text-align: right;\">\n",
              "      <th></th>\n",
              "      <th>OCP Jorf</th>\n",
              "      <th>OCP SAFI</th>\n",
              "      <th>OCP Port Casablanca</th>\n",
              "      <th>OCP Port Tanger</th>\n",
              "      <th>OCP Port Nador</th>\n",
              "    </tr>\n",
              "  </thead>\n",
              "  <tbody>\n",
              "    <tr>\n",
              "      <th>Agadir Ida-Outanane</th>\n",
              "      <td>309.002807</td>\n",
              "      <td>279.524737</td>\n",
              "      <td>293.795789</td>\n",
              "      <td>411.051930</td>\n",
              "      <td>497.913333</td>\n",
              "    </tr>\n",
              "    <tr>\n",
              "      <th>Benslimane</th>\n",
              "      <td>127.905614</td>\n",
              "      <td>189.013509</td>\n",
              "      <td>95.957368</td>\n",
              "      <td>201.422281</td>\n",
              "      <td>288.274035</td>\n",
              "    </tr>\n",
              "    <tr>\n",
              "      <th>Casablanca</th>\n",
              "      <td>108.898867</td>\n",
              "      <td>170.006762</td>\n",
              "      <td>41.210482</td>\n",
              "      <td>193.118823</td>\n",
              "      <td>279.972990</td>\n",
              "    </tr>\n",
              "    <tr>\n",
              "      <th>Chefchaouen</th>\n",
              "      <td>286.265088</td>\n",
              "      <td>347.372982</td>\n",
              "      <td>254.312018</td>\n",
              "      <td>122.862018</td>\n",
              "      <td>343.648421</td>\n",
              "    </tr>\n",
              "    <tr>\n",
              "      <th>El Jadida</th>\n",
              "      <td>0.000000</td>\n",
              "      <td>138.513158</td>\n",
              "      <td>62.207895</td>\n",
              "      <td>179.464035</td>\n",
              "      <td>266.315789</td>\n",
              "    </tr>\n",
              "  </tbody>\n",
              "</table>\n",
              "</div>\n",
              "      <button class=\"colab-df-convert\" onclick=\"convertToInteractive('df-176b4a6d-c011-4904-99d9-35691524e3da')\"\n",
              "              title=\"Convert this dataframe to an interactive table.\"\n",
              "              style=\"display:none;\">\n",
              "        \n",
              "  <svg xmlns=\"http://www.w3.org/2000/svg\" height=\"24px\"viewBox=\"0 0 24 24\"\n",
              "       width=\"24px\">\n",
              "    <path d=\"M0 0h24v24H0V0z\" fill=\"none\"/>\n",
              "    <path d=\"M18.56 5.44l.94 2.06.94-2.06 2.06-.94-2.06-.94-.94-2.06-.94 2.06-2.06.94zm-11 1L8.5 8.5l.94-2.06 2.06-.94-2.06-.94L8.5 2.5l-.94 2.06-2.06.94zm10 10l.94 2.06.94-2.06 2.06-.94-2.06-.94-.94-2.06-.94 2.06-2.06.94z\"/><path d=\"M17.41 7.96l-1.37-1.37c-.4-.4-.92-.59-1.43-.59-.52 0-1.04.2-1.43.59L10.3 9.45l-7.72 7.72c-.78.78-.78 2.05 0 2.83L4 21.41c.39.39.9.59 1.41.59.51 0 1.02-.2 1.41-.59l7.78-7.78 2.81-2.81c.8-.78.8-2.07 0-2.86zM5.41 20L4 18.59l7.72-7.72 1.47 1.35L5.41 20z\"/>\n",
              "  </svg>\n",
              "      </button>\n",
              "      \n",
              "  <style>\n",
              "    .colab-df-container {\n",
              "      display:flex;\n",
              "      flex-wrap:wrap;\n",
              "      gap: 12px;\n",
              "    }\n",
              "\n",
              "    .colab-df-convert {\n",
              "      background-color: #E8F0FE;\n",
              "      border: none;\n",
              "      border-radius: 50%;\n",
              "      cursor: pointer;\n",
              "      display: none;\n",
              "      fill: #1967D2;\n",
              "      height: 32px;\n",
              "      padding: 0 0 0 0;\n",
              "      width: 32px;\n",
              "    }\n",
              "\n",
              "    .colab-df-convert:hover {\n",
              "      background-color: #E2EBFA;\n",
              "      box-shadow: 0px 1px 2px rgba(60, 64, 67, 0.3), 0px 1px 3px 1px rgba(60, 64, 67, 0.15);\n",
              "      fill: #174EA6;\n",
              "    }\n",
              "\n",
              "    [theme=dark] .colab-df-convert {\n",
              "      background-color: #3B4455;\n",
              "      fill: #D2E3FC;\n",
              "    }\n",
              "\n",
              "    [theme=dark] .colab-df-convert:hover {\n",
              "      background-color: #434B5C;\n",
              "      box-shadow: 0px 1px 3px 1px rgba(0, 0, 0, 0.15);\n",
              "      filter: drop-shadow(0px 1px 2px rgba(0, 0, 0, 0.3));\n",
              "      fill: #FFFFFF;\n",
              "    }\n",
              "  </style>\n",
              "\n",
              "      <script>\n",
              "        const buttonEl =\n",
              "          document.querySelector('#df-176b4a6d-c011-4904-99d9-35691524e3da button.colab-df-convert');\n",
              "        buttonEl.style.display =\n",
              "          google.colab.kernel.accessAllowed ? 'block' : 'none';\n",
              "\n",
              "        async function convertToInteractive(key) {\n",
              "          const element = document.querySelector('#df-176b4a6d-c011-4904-99d9-35691524e3da');\n",
              "          const dataTable =\n",
              "            await google.colab.kernel.invokeFunction('convertToInteractive',\n",
              "                                                     [key], {});\n",
              "          if (!dataTable) return;\n",
              "\n",
              "          const docLinkHtml = 'Like what you see? Visit the ' +\n",
              "            '<a target=\"_blank\" href=https://colab.research.google.com/notebooks/data_table.ipynb>data table notebook</a>'\n",
              "            + ' to learn more about interactive tables.';\n",
              "          element.innerHTML = '';\n",
              "          dataTable['output_type'] = 'display_data';\n",
              "          await google.colab.output.renderOutput(dataTable, element);\n",
              "          const docLink = document.createElement('div');\n",
              "          docLink.innerHTML = docLinkHtml;\n",
              "          element.appendChild(docLink);\n",
              "        }\n",
              "      </script>\n",
              "    </div>\n",
              "  </div>\n",
              "  "
            ]
          },
          "metadata": {},
          "execution_count": 329
        }
      ]
    },
    {
      "cell_type": "markdown",
      "source": [
        "*   **Transport_aval**"
      ],
      "metadata": {
        "id": "iutTWNvBH1i9"
      }
    },
    {
      "cell_type": "code",
      "source": [
        "cout_transport_aval= cout_transport_aval[cout_transport_aval.filter(regex='^(?!Unnamed)').columns]\n",
        "\n",
        "for i in range(len(cout_transport_aval)):\n",
        "    cout_transport_aval.rename(index={i: cout_transport_aval.iloc[i,0]}, inplace=True)\n",
        "cout_transport_aval.drop('Zone',axis='columns', inplace=True)\n",
        "\n",
        "cout_transport_aval"
      ],
      "metadata": {
        "colab": {
          "base_uri": "https://localhost:8080/",
          "height": 206
        },
        "id": "C2e8esfN6fqI",
        "outputId": "38bc0cc7-e5ad-4204-c465-92b59e6fe04d"
      },
      "execution_count": null,
      "outputs": [
        {
          "output_type": "execute_result",
          "data": {
            "text/plain": [
              "                     Agadir Ida-Outanane  Benslimane  Casablanca  Chefchaouen  \\\n",
              "Agadir Ida-Outanane            27.789784  312.280000  284.280000   469.080000   \n",
              "Benslimane                    312.280000   28.434998   53.000000   194.680000   \n",
              "Casablanca                    284.280000   53.000000   22.958297   211.480000   \n",
              "Chefchaouen                   469.080000  194.680000  211.480000    29.294792   \n",
              "El Jadida                     252.920000  105.080000   82.680000   268.040000   \n",
              "\n",
              "                      El Jadida  \n",
              "Agadir Ida-Outanane  252.920000  \n",
              "Benslimane           105.080000  \n",
              "Casablanca            82.680000  \n",
              "Chefchaouen          268.040000  \n",
              "El Jadida             29.191547  "
            ],
            "text/html": [
              "\n",
              "  <div id=\"df-5a84c1eb-182d-470c-9b12-77116e9d7e94\">\n",
              "    <div class=\"colab-df-container\">\n",
              "      <div>\n",
              "<style scoped>\n",
              "    .dataframe tbody tr th:only-of-type {\n",
              "        vertical-align: middle;\n",
              "    }\n",
              "\n",
              "    .dataframe tbody tr th {\n",
              "        vertical-align: top;\n",
              "    }\n",
              "\n",
              "    .dataframe thead th {\n",
              "        text-align: right;\n",
              "    }\n",
              "</style>\n",
              "<table border=\"1\" class=\"dataframe\">\n",
              "  <thead>\n",
              "    <tr style=\"text-align: right;\">\n",
              "      <th></th>\n",
              "      <th>Agadir Ida-Outanane</th>\n",
              "      <th>Benslimane</th>\n",
              "      <th>Casablanca</th>\n",
              "      <th>Chefchaouen</th>\n",
              "      <th>El Jadida</th>\n",
              "    </tr>\n",
              "  </thead>\n",
              "  <tbody>\n",
              "    <tr>\n",
              "      <th>Agadir Ida-Outanane</th>\n",
              "      <td>27.789784</td>\n",
              "      <td>312.280000</td>\n",
              "      <td>284.280000</td>\n",
              "      <td>469.080000</td>\n",
              "      <td>252.920000</td>\n",
              "    </tr>\n",
              "    <tr>\n",
              "      <th>Benslimane</th>\n",
              "      <td>312.280000</td>\n",
              "      <td>28.434998</td>\n",
              "      <td>53.000000</td>\n",
              "      <td>194.680000</td>\n",
              "      <td>105.080000</td>\n",
              "    </tr>\n",
              "    <tr>\n",
              "      <th>Casablanca</th>\n",
              "      <td>284.280000</td>\n",
              "      <td>53.000000</td>\n",
              "      <td>22.958297</td>\n",
              "      <td>211.480000</td>\n",
              "      <td>82.680000</td>\n",
              "    </tr>\n",
              "    <tr>\n",
              "      <th>Chefchaouen</th>\n",
              "      <td>469.080000</td>\n",
              "      <td>194.680000</td>\n",
              "      <td>211.480000</td>\n",
              "      <td>29.294792</td>\n",
              "      <td>268.040000</td>\n",
              "    </tr>\n",
              "    <tr>\n",
              "      <th>El Jadida</th>\n",
              "      <td>252.920000</td>\n",
              "      <td>105.080000</td>\n",
              "      <td>82.680000</td>\n",
              "      <td>268.040000</td>\n",
              "      <td>29.191547</td>\n",
              "    </tr>\n",
              "  </tbody>\n",
              "</table>\n",
              "</div>\n",
              "      <button class=\"colab-df-convert\" onclick=\"convertToInteractive('df-5a84c1eb-182d-470c-9b12-77116e9d7e94')\"\n",
              "              title=\"Convert this dataframe to an interactive table.\"\n",
              "              style=\"display:none;\">\n",
              "        \n",
              "  <svg xmlns=\"http://www.w3.org/2000/svg\" height=\"24px\"viewBox=\"0 0 24 24\"\n",
              "       width=\"24px\">\n",
              "    <path d=\"M0 0h24v24H0V0z\" fill=\"none\"/>\n",
              "    <path d=\"M18.56 5.44l.94 2.06.94-2.06 2.06-.94-2.06-.94-.94-2.06-.94 2.06-2.06.94zm-11 1L8.5 8.5l.94-2.06 2.06-.94-2.06-.94L8.5 2.5l-.94 2.06-2.06.94zm10 10l.94 2.06.94-2.06 2.06-.94-2.06-.94-.94-2.06-.94 2.06-2.06.94z\"/><path d=\"M17.41 7.96l-1.37-1.37c-.4-.4-.92-.59-1.43-.59-.52 0-1.04.2-1.43.59L10.3 9.45l-7.72 7.72c-.78.78-.78 2.05 0 2.83L4 21.41c.39.39.9.59 1.41.59.51 0 1.02-.2 1.41-.59l7.78-7.78 2.81-2.81c.8-.78.8-2.07 0-2.86zM5.41 20L4 18.59l7.72-7.72 1.47 1.35L5.41 20z\"/>\n",
              "  </svg>\n",
              "      </button>\n",
              "      \n",
              "  <style>\n",
              "    .colab-df-container {\n",
              "      display:flex;\n",
              "      flex-wrap:wrap;\n",
              "      gap: 12px;\n",
              "    }\n",
              "\n",
              "    .colab-df-convert {\n",
              "      background-color: #E8F0FE;\n",
              "      border: none;\n",
              "      border-radius: 50%;\n",
              "      cursor: pointer;\n",
              "      display: none;\n",
              "      fill: #1967D2;\n",
              "      height: 32px;\n",
              "      padding: 0 0 0 0;\n",
              "      width: 32px;\n",
              "    }\n",
              "\n",
              "    .colab-df-convert:hover {\n",
              "      background-color: #E2EBFA;\n",
              "      box-shadow: 0px 1px 2px rgba(60, 64, 67, 0.3), 0px 1px 3px 1px rgba(60, 64, 67, 0.15);\n",
              "      fill: #174EA6;\n",
              "    }\n",
              "\n",
              "    [theme=dark] .colab-df-convert {\n",
              "      background-color: #3B4455;\n",
              "      fill: #D2E3FC;\n",
              "    }\n",
              "\n",
              "    [theme=dark] .colab-df-convert:hover {\n",
              "      background-color: #434B5C;\n",
              "      box-shadow: 0px 1px 3px 1px rgba(0, 0, 0, 0.15);\n",
              "      filter: drop-shadow(0px 1px 2px rgba(0, 0, 0, 0.3));\n",
              "      fill: #FFFFFF;\n",
              "    }\n",
              "  </style>\n",
              "\n",
              "      <script>\n",
              "        const buttonEl =\n",
              "          document.querySelector('#df-5a84c1eb-182d-470c-9b12-77116e9d7e94 button.colab-df-convert');\n",
              "        buttonEl.style.display =\n",
              "          google.colab.kernel.accessAllowed ? 'block' : 'none';\n",
              "\n",
              "        async function convertToInteractive(key) {\n",
              "          const element = document.querySelector('#df-5a84c1eb-182d-470c-9b12-77116e9d7e94');\n",
              "          const dataTable =\n",
              "            await google.colab.kernel.invokeFunction('convertToInteractive',\n",
              "                                                     [key], {});\n",
              "          if (!dataTable) return;\n",
              "\n",
              "          const docLinkHtml = 'Like what you see? Visit the ' +\n",
              "            '<a target=\"_blank\" href=https://colab.research.google.com/notebooks/data_table.ipynb>data table notebook</a>'\n",
              "            + ' to learn more about interactive tables.';\n",
              "          element.innerHTML = '';\n",
              "          dataTable['output_type'] = 'display_data';\n",
              "          await google.colab.output.renderOutput(dataTable, element);\n",
              "          const docLink = document.createElement('div');\n",
              "          docLink.innerHTML = docLinkHtml;\n",
              "          element.appendChild(docLink);\n",
              "        }\n",
              "      </script>\n",
              "    </div>\n",
              "  </div>\n",
              "  "
            ]
          },
          "metadata": {},
          "execution_count": 330
        }
      ]
    },
    {
      "cell_type": "code",
      "source": [
        "periodes = [1, 2, 3, 4]"
      ],
      "metadata": {
        "id": "-L9hcWz2uNE5"
      },
      "execution_count": null,
      "outputs": []
    },
    {
      "cell_type": "markdown",
      "source": [
        "**Paramètres**"
      ],
      "metadata": {
        "id": "wp3IGxvPjQbN"
      }
    },
    {
      "cell_type": "code",
      "source": [
        "Cout_de_stockage_MP =  10 #| Cost of stocking one unit of raw materials \n",
        "Cout_de_stockage_Engrais= 10 #| Cost of stocking one unit of final product\n",
        "Capacite_stock_actif = 3500 #| Capacity of new storages\n",
        "Capacite_blender_actiif = 12000 #| Capacity of new blenders\n",
        "Capacite_smart_blender_actiif = 3000  #| Capacity of new smart blenders\n",
        "Stockage_min = 100 #| Min limit of flow to open a new storage invest in a storage\n",
        "Blender_min = 500   #| Min limit of flow to open a new storage invest in a blender\n",
        "Cout_blender = 2600000 #| Investment cost for a single blender\n",
        "Cout_sblender = 380000 #| Investment cost for a single smart blender\n",
        "Cout_stockage_building = 10 #| Investment cost for building a single storage\n",
        "Cout_blending = 120 \n",
        "Cout_smart_blending = 120\n",
        "Cout_de_rupture = 10**5"
      ],
      "metadata": {
        "id": "OC3QefvPiuUv"
      },
      "execution_count": null,
      "outputs": []
    },
    {
      "cell_type": "markdown",
      "source": [
        "# Linear Optimisation"
      ],
      "metadata": {
        "id": "7VsmEpY7H64M"
      }
    },
    {
      "cell_type": "markdown",
      "source": [
        "## Decision Variables"
      ],
      "metadata": {
        "id": "U92pbcDQIFt1"
      }
    },
    {
      "cell_type": "code",
      "source": [
        ""
      ],
      "metadata": {
        "id": "h56XmdZ1j9ZS"
      },
      "execution_count": null,
      "outputs": []
    },
    {
      "cell_type": "code",
      "source": [
        "provinces = []\n",
        "for blender in list_blenders:\n",
        "  if blender.location not in provinces:\n",
        "    provinces.append(blender.location)\n",
        "dic_blenders = {}\n",
        "for province in provinces:\n",
        "  L = []\n",
        "  for blender in list_blenders:\n",
        "    if blender.location == province :\n",
        "      L.append(blender)\n",
        "  dic_blenders[province] = L"
      ],
      "metadata": {
        "id": "7hauNRX5R0KF"
      },
      "execution_count": null,
      "outputs": []
    },
    {
      "cell_type": "code",
      "source": [
        "\n",
        "Supply_StorageMP = [(s,st,m,t)  for s in list_suppliers \n",
        "                              for st in list_stockages\n",
        "                              for m in list_mp\n",
        "                              for t in periodes]\n",
        "Flow_Supply_StorageMP = LpVariable.dicts(\"Flow_Supply_StorageMP\", Supply_StorageMP, lowBound=0)\n",
        "\n",
        "\n",
        "StorageMP_Blender = [(st,b,m,t)  for st in list_stockages \n",
        "                              for b in list_blenders\n",
        "                              for m in list_mp\n",
        "                              for t in periodes]\n",
        "Flow_StorageMP_Blender = LpVariable.dicts(\"Flow_StorageMP_Blender\", StorageMP_Blender, lowBound=0)\n",
        "\n",
        "\n",
        "Supply_Blender = [(s,b,m,t)  for s in list_suppliers \n",
        "                              for b in list_blenders\n",
        "                              for m in list_mp\n",
        "                              for t in periodes]\n",
        "Flow_Supply_Blender = LpVariable.dicts(\"Flow_Supply_Blender\", Supply_Blender, lowBound=0)\n",
        "\n",
        "Blender_StorageFertlizer = [(b,st,r,t)  for b in list_blenders \n",
        "                              for st in list_stockages\n",
        "                              for t in periodes\n",
        "                              for r in list_recettes]\n",
        "Flow_Blender_StorageFertlizer = LpVariable.dicts(\"Flow_Blender_StorageFertlizer\", Blender_StorageFertlizer, lowBound=0)\n",
        "\n",
        "\n",
        "StorageFertlizer_Province = [(st,r,t) for st in list_stockages\n",
        "                              for t in periodes\n",
        "                              for r in list_recettes]\n",
        "Flow_StorageFertlizer_Province = LpVariable.dicts(\"Flow_StorageFertlizer_Province\", StorageFertlizer_Province, lowBound=0)\n",
        "\n",
        "\n",
        "Blender_Province = [(b,r,t) for b in list_blenders\n",
        "                              for t in periodes\n",
        "                              for r in list_recettes]\n",
        "Flow_Blender_Province = LpVariable.dicts(\"Flow_StorageFertlizer_Province\", Blender_Province, lowBound=0)\n",
        "\n"
      ],
      "metadata": {
        "id": "nIgvrHi-6pnL"
      },
      "execution_count": null,
      "outputs": []
    },
    {
      "cell_type": "code",
      "source": [
        "stock_mp_list = [(st,m,t) for st in list_stockages\n",
        "                           for m in list_mp\n",
        "                           for t in periodes]\n",
        "stock_mp_disponible = LpVariable.dicts(\"Stock_Mp_disponible\", stock_mp_list, lowBound=0)\n",
        "\n",
        "stock_pf_list = [(st,r,t) for st in list_stockages\n",
        "                           for t in periodes\n",
        "                           for r in list_recettes]\n",
        "stock_pf_disponible = LpVariable.dicts(\"Stock_Pf_disponible\", stock_pf_list, lowBound=0)\n"
      ],
      "metadata": {
        "id": "H3YV7ERYpwgj"
      },
      "execution_count": null,
      "outputs": []
    },
    {
      "cell_type": "code",
      "source": [
        "recette_periode =[(r,t) for t in periodes\n",
        "                  for r in list_recettes]\n",
        "reliquat_demande = LpVariable.dicts(\"Reliquat demande\", recette_periode)"
      ],
      "metadata": {
        "id": "4uN95lC54Tmr"
      },
      "execution_count": null,
      "outputs": []
    },
    {
      "cell_type": "code",
      "source": [
        "blender_periodes = [(b,t) for b in list_blenders\n",
        "                    for t in periodes]\n",
        "Active_Blender = LpVariable.dicts(\"Active_Blender\" , blender_periodes, cat = \"Binary\")\n",
        "\n",
        "Active_SBlender = LpVariable.dicts(\"Active_Smart_Blender\" , blender_periodes, cat = \"Binary\")  \n",
        "\n",
        "Blender_Cost = LpVariable.dicts(\"Investment in blender\" , list_blenders, cat = \"Binary\")\n",
        "SBlender_Cost = LpVariable.dicts(\"Investment in smart blender\" , list_blenders, cat = \"Binary\")"
      ],
      "metadata": {
        "id": "KJ4WKwrP-SnK"
      },
      "execution_count": null,
      "outputs": []
    },
    {
      "cell_type": "code",
      "source": [
        "storage_periodes = [(st,t) for st in list_stockages\n",
        "                    for t in periodes]\n",
        "Storage_investement = LpVariable.dicts(\"Storage_investement\" , storage_periodes, cat = \"Binary\")\n",
        "\n",
        "Storage_Cost = LpVariable.dicts(\"Investment in storage\" , list_stockages, cat = \"Binary\")"
      ],
      "metadata": {
        "id": "MLjd6B_fbr3W"
      },
      "execution_count": null,
      "outputs": []
    },
    {
      "cell_type": "code",
      "source": [
        "Sum = LpVariable.dicts(\"Sum dakshi lli f la contrainte <=\", storage_periodes)"
      ],
      "metadata": {
        "id": "oRpx5H-2ruD_"
      },
      "execution_count": null,
      "outputs": []
    },
    {
      "cell_type": "markdown",
      "source": [
        "## Create Model and Objective Function"
      ],
      "metadata": {
        "id": "1zwqNp97IO5t"
      }
    },
    {
      "cell_type": "code",
      "source": [
        "# Create the model\n",
        "model = LpProblem(name=\"small-problem\", sense=LpMinimize)\n",
        "\n",
        "#les couts à optimiser\n",
        "\n",
        "#transport\n",
        "cout_Flow_Supply_StorageMP = lpSum([cout_transport_amont.loc[st.location,s.location]*Flow_Supply_StorageMP[s,st,m,t] for (s,st,m,t) in Supply_StorageMP])\n",
        "cout_Flow_Supply_Blender = lpSum([cout_transport_amont.loc[b.location , s.location]*Flow_Supply_Blender[s,b,m,t] for (s,b,m,t) in Supply_Blender])\n",
        "cout_Flow_StorageMP_Blender = lpSum([cout_transport_aval.loc[st.location , b.location]*Flow_StorageMP_Blender[st,b,m,t] for (st,b,m,t) in StorageMP_Blender])\n",
        "cout_Flow_Blender_StorageFertlizer = lpSum([cout_transport_aval.loc[b.location,st.location]*Flow_Blender_StorageFertlizer[b,st,r,t] for (b,st,r,t) in Blender_StorageFertlizer])\n",
        "cout_Flow_StorageFertlizer_Province = lpSum([cout_transport_aval.loc[st.location,r.location]*Flow_StorageFertlizer_Province[st,r,t] for (st,r,t) in StorageFertlizer_Province])\n",
        "cout_Flow_Blender_Province = lpSum([cout_transport_aval.loc[b.location,r.location]*Flow_Blender_Province[b,r,t] for (b,r,t) in Blender_Province])\n",
        "\n",
        "#tranposrt cost\n",
        "cout_transport = cout_Flow_Supply_StorageMP  + cout_Flow_Supply_Blender + cout_Flow_StorageMP_Blender + cout_Flow_Blender_StorageFertlizer + cout_Flow_StorageFertlizer_Province + cout_Flow_Blender_Province\n",
        "#blending cost\n",
        "cout_blending = lpSum([Cout_blending*Flow_Supply_Blender[s,b,m,t] if b.type == \"B\" else Cout_smart_blending*Flow_Supply_Blender[s,b,m,t] for (s,b,m,t) in Supply_Blender]) +\\\n",
        "                lpSum([Cout_blending*Flow_StorageMP_Blender[st,b,m,t] if b.type == \"B\" else Cout_smart_blending*Flow_StorageMP_Blender[st,b,m,t] for (st,b,m,t) in StorageMP_Blender])\n",
        "#storage cost\n",
        "cout_storage = lpSum([Cout_de_stockage_MP*stock_mp_disponible[st,m,t] for (st,m,t) in stock_mp_list ]) +\\\n",
        "                lpSum([Cout_de_stockage_Engrais*stock_pf_disponible[st,r, t] for (st,r,t) in stock_pf_list]) #+\\\n",
        "                #lpSum([Cout_de_stockage_MP*Flow_Supply_StorageMP[s,st,m,t]  for (s,st,m,t) in Supply_StorageMP]) +\\\n",
        "                #lpSum([Cout_de_stockage_Engrais * Flow_Blender_StorageFertlizer[b,st,r,t] for (b,st,r,t) in Blender_StorageFertlizer])\n",
        "                \n",
        "#cout rupture\n",
        "cout_rupture_demande = lpSum(reliquat_demande[r,t] for (r,t) in recette_periode) \n",
        "#cout investissement\n",
        "cout_investment_blender = lpSum([Cout_blender * Blender_Cost[b] for b in list_blenders]) + lpSum([Cout_sblender * SBlender_Cost[b] for b in list_blenders])\n",
        "cout_investment_storage = lpSum([Cout_stockage_building * Storage_Cost[st] for st in list_stockages])\n",
        "logistics =  cout_transport + cout_blending + cout_storage + cout_investment_blender + cout_investment_storage \n",
        "#fonction objective\n",
        "objective = logistics + Cout_de_rupture* cout_rupture_demande \n",
        "\n",
        "model+= objective"
      ],
      "metadata": {
        "id": "8mCu-jM48STi"
      },
      "execution_count": null,
      "outputs": []
    },
    {
      "cell_type": "markdown",
      "source": [
        "## Constraints"
      ],
      "metadata": {
        "id": "nGriU8odIU4_"
      }
    },
    {
      "cell_type": "code",
      "source": [
        "for b in list_blenders : \n",
        "  for t in periodes:\n",
        "    model += Blender_Cost[b] >= Active_Blender[b,t]\n",
        "    model += SBlender_Cost[b] >= Active_SBlender[b,t]\n",
        "       \n",
        "for b in list_blenders:\n",
        "  model += Blender_Cost[b] <= 1\n",
        "  model += SBlender_Cost[b] <= 1"
      ],
      "metadata": {
        "id": "uwJZ2eOw8tDL"
      },
      "execution_count": null,
      "outputs": []
    },
    {
      "cell_type": "code",
      "source": [
        "for st in list_stockages : \n",
        "  for t in periodes:\n",
        "    model += Storage_Cost[st] >= Storage_investement[st,t]\n",
        "       \n",
        "for st in list_stockages :\n",
        "  model += Storage_Cost[st] <= 1"
      ],
      "metadata": {
        "id": "sge56Ry_elzO"
      },
      "execution_count": null,
      "outputs": []
    },
    {
      "cell_type": "code",
      "source": [
        "for t in periodes:\n",
        "  for r in list_recettes : \n",
        "    constraint = r.quantite['Q' + str(t)] - lpSum([Flow_Blender_Province[b,r,t] for  b in list_blenders]) - \\\n",
        "    lpSum([Flow_StorageFertlizer_Province[st,r,t] for st in list_stockages]) == reliquat_demande[r,t]\n",
        "    model += constraint"
      ],
      "metadata": {
        "id": "en7RCAnE6Hbc"
      },
      "execution_count": null,
      "outputs": []
    },
    {
      "cell_type": "code",
      "source": [
        "for st in list_stockages:\n",
        "  for m in list_mp:\n",
        "    model += stock_mp_disponible[st,m,1] == lpSum(Flow_Supply_StorageMP[s,st,m,1] for s in list_suppliers ) - \\\n",
        "                                      lpSum(Flow_StorageMP_Blender[st,b,m,1] for b in list_blenders)\n",
        "    model += lpSum(Flow_StorageMP_Blender[st,b,m,1] for b in list_blenders) == 0\n",
        "    for t in periodes[1:]:\n",
        "      model += stock_mp_disponible[st,m,t] == stock_mp_disponible[st,m,t-1] + lpSum(Flow_Supply_StorageMP[s,st,m,t] for s in list_suppliers ) - \\\n",
        "                                      lpSum(Flow_StorageMP_Blender[st,b,m,t] for b in list_blenders)\n",
        "      model += lpSum(Flow_StorageMP_Blender[st,b,m,t] for b in list_blenders)<= stock_mp_disponible[st,m,t-1]"
      ],
      "metadata": {
        "id": "k_41Wcb6swik"
      },
      "execution_count": null,
      "outputs": []
    },
    {
      "cell_type": "code",
      "source": [
        "for st in list_stockages:\n",
        "    for r in list_recettes:\n",
        "        model += stock_pf_disponible[st,r,1] == - Flow_StorageFertlizer_Province[st,r,1] + \\\n",
        "                                       lpSum(Flow_Blender_StorageFertlizer[b,st,r,1] for b in list_blenders)\n",
        "        model += Flow_StorageFertlizer_Province[st,r,1] == 0\n",
        "for t in periodes[1:]:  \n",
        "  for st in list_stockages:\n",
        "    for r in list_recettes:\n",
        "      model += stock_pf_disponible[st,r,t] == stock_pf_disponible[st,r,t-1] - Flow_StorageFertlizer_Province[st,r,t] + \\\n",
        "                                       lpSum(Flow_Blender_StorageFertlizer[b,st,r,t] for b in list_blenders)\n",
        "      model += Flow_StorageFertlizer_Province[st,r,t] <=  stock_pf_disponible[st,r,t-1]                            "
      ],
      "metadata": {
        "id": "aL2fyueZ4RHf"
      },
      "execution_count": null,
      "outputs": []
    },
    {
      "cell_type": "code",
      "source": [
        "for t in periodes:\n",
        "  for s in list_suppliers:\n",
        "    for m in list_mp:\n",
        "      model += (s.MP[m] >= lpSum(Flow_Supply_StorageMP[s,st,m,t] for st in list_stockages) + lpSum(Flow_Supply_Blender[s,b,m,t] for b in list_blenders)) \n"
      ],
      "metadata": {
        "id": "KhBmfdbICm3g"
      },
      "execution_count": null,
      "outputs": []
    },
    {
      "cell_type": "code",
      "source": [
        "for t in periodes:\n",
        "  for st in list_stockages:\n",
        "    constraint =  lpSum(stock_mp_disponible[st,m,t] for m in list_mp) + \\\n",
        "    lpSum(stock_pf_disponible[st,r,t] for r in list_recettes) <= st.capacity + Capacite_stock_actif * Storage_investement[st,t]\n",
        "    model += constraint"
      ],
      "metadata": {
        "id": "XrBoODfZoCFZ"
      },
      "execution_count": null,
      "outputs": []
    },
    {
      "cell_type": "code",
      "source": [
        "for t in periodes:\n",
        "  for r in list_recettes : \n",
        "    constraint = lpSum([Flow_Blender_Province[b,r,t] for  b in list_blenders]) + \\\n",
        "    lpSum([Flow_StorageFertlizer_Province[st,r,t] for st in list_stockages]) <= r.quantite['Q'+str(t)]\n",
        "    model += constraint"
      ],
      "metadata": {
        "id": "bqA8RZ4J2-rw"
      },
      "execution_count": null,
      "outputs": []
    },
    {
      "cell_type": "code",
      "source": [
        "for t in periodes: \n",
        "  for b in list_blenders : \n",
        "    constraint = lpSum([Flow_Supply_Blender[s,b,m,t] for s in list_suppliers for  m in list_mp ]) +\\\n",
        "    lpSum([Flow_StorageMP_Blender[st,b,m,t] for st in list_stockages for m in list_mp ]) <=  +\\\n",
        "    b.capacity + Capacite_blender_actiif * Active_Blender[b,t] + Capacite_smart_blender_actiif *Active_SBlender[b,t]\n",
        "    model += constraint"
      ],
      "metadata": {
        "id": "z0tiJTAY80Nb"
      },
      "execution_count": null,
      "outputs": []
    },
    {
      "cell_type": "code",
      "source": [
        "for t in periodes: \n",
        "  for b in list_blenders : \n",
        "    constraint = lpSum([Flow_Supply_Blender[s,b,m,t] for s in list_suppliers for  m in list_mp ]) +\\\n",
        "    lpSum([Flow_StorageMP_Blender[st,b,m,t] for st in list_stockages for m in list_mp ]) >=  +\\\n",
        "    (b.capacity + Blender_min ) * (Active_Blender[b,t] + Active_SBlender[b,t])\n",
        "    model += constraint"
      ],
      "metadata": {
        "id": "0gCSvqyVc2de"
      },
      "execution_count": null,
      "outputs": []
    },
    {
      "cell_type": "code",
      "source": [
        "for t in periodes: \n",
        "  for st in list_stockages : \n",
        "    constraint = lpSum(stock_mp_disponible[st,m,t] for m in list_mp) + \\\n",
        "    lpSum(stock_pf_disponible[st,r,t] for r in list_recettes) >=  +\\\n",
        "    (st.capacity + Stockage_min ) * Storage_investement[st,t]\n",
        "    model += constraint"
      ],
      "metadata": {
        "id": "CetBz3o3f5ds"
      },
      "execution_count": null,
      "outputs": []
    },
    {
      "cell_type": "code",
      "source": [
        "for t in periodes:\n",
        "  for b in list_blenders:  \n",
        "    for m in list_mp:\n",
        "      constraint = lpSum([Flow_Supply_Blender[s,b,m,t] for s in list_suppliers]) +\\\n",
        "      lpSum([Flow_StorageMP_Blender[st,b,m,t] for st in list_stockages  ]) - \\\n",
        "      lpSum([Flow_Blender_Province[b,r,t]*r.composition[m] for  r in list_recettes]) -\\\n",
        "      lpSum([Flow_Blender_StorageFertlizer[b,st,r,t]*r.composition[m] for st in list_stockages for r in list_recettes]) ==0\n",
        "      model += constraint"
      ],
      "metadata": {
        "id": "bG9pcxBA-gZs"
      },
      "execution_count": null,
      "outputs": []
    },
    {
      "cell_type": "code",
      "source": [
        "model.solve()"
      ],
      "metadata": {
        "colab": {
          "base_uri": "https://localhost:8080/"
        },
        "id": "wlaanJfH65Xc",
        "outputId": "1f288827-97d3-4fee-c43c-51f53e0345ef"
      },
      "execution_count": null,
      "outputs": [
        {
          "output_type": "execute_result",
          "data": {
            "text/plain": [
              "1"
            ]
          },
          "metadata": {},
          "execution_count": 353
        }
      ]
    },
    {
      "cell_type": "code",
      "source": [
        "cout_transport + cout_blending + cout_storage + cout_investment_blender + cout_investment_storage "
      ],
      "metadata": {
        "id": "fOg852VwE2Zp"
      },
      "execution_count": null,
      "outputs": []
    },
    {
      "cell_type": "code",
      "source": [
        "logistics.value()"
      ],
      "metadata": {
        "colab": {
          "base_uri": "https://localhost:8080/"
        },
        "id": "VXg-pf9hE3Ly",
        "outputId": "446c23d0-b16a-4e89-b48c-823f521db0e6"
      },
      "execution_count": null,
      "outputs": [
        {
          "output_type": "execute_result",
          "data": {
            "text/plain": [
              "21936761.097967286"
            ]
          },
          "metadata": {},
          "execution_count": 387
        }
      ]
    },
    {
      "cell_type": "code",
      "source": [
        "#for t in periodes:\n",
        " # for r in list_recettes : \n",
        " #   reliquat = reliquat_demande[r,t].value()\n",
        "#    if reliquat <0 :\n",
        " #     print(reliquat)\n",
        "     \n",
        "for var in model.variables():\n",
        "  if var.value() != 0:\n",
        "\n",
        "    print(f\"{var.name}: {var.value()}\")\n"
      ],
      "metadata": {
        "id": "hkT4lTyobvua",
        "colab": {
          "base_uri": "https://localhost:8080/"
        },
        "outputId": "e0153e63-26ed-490f-b32c-2a44a199415d"
      },
      "execution_count": null,
      "outputs": [
        {
          "output_type": "stream",
          "name": "stdout",
          "text": [
            "Active_Smart_Blender_(Blender_in_Agadir_Ida_Outanane,_1): 1.0\n",
            "Active_Smart_Blender_(Blender_in_Agadir_Ida_Outanane,_4): 1.0\n",
            "Active_Smart_Blender_(Blender_in_Chefchaouen,_1): 1.0\n",
            "Active_Smart_Blender_(Blender_in_Chefchaouen,_2): 1.0\n",
            "Active_Smart_Blender_(Blender_in_Chefchaouen,_3): 1.0\n",
            "Active_Smart_Blender_(Blender_in_Chefchaouen,_4): 1.0\n",
            "Active_Smart_Blender_(Blender_in_El_Jadida,_1): 1.0\n",
            "Active_Smart_Blender_(Blender_in_El_Jadida,_2): 1.0\n",
            "Active_Smart_Blender_(Blender_in_El_Jadida,_3): 1.0\n",
            "Active_Smart_Blender_(Blender_in_El_Jadida,_4): 1.0\n",
            "Flow_Blender_StorageFertlizer_(Blender_in_Chefchaouen,_Stockage_in_Chefchaouen,_<__main__.Recette_object_at_0x7f04458a56d0_,_3): 1520.19\n",
            "Flow_Blender_StorageFertlizer_(Blender_in_Chefchaouen,_Stockage_in_Chefchaouen,_<__main__.Recette_object_at_0x7f0445b016d0_,_2): 159.21323\n",
            "Flow_Blender_StorageFertlizer_(Blender_in_Chefchaouen,_Stockage_in_Chefchaouen,_<__main__.Recette_object_at_0x7f0445b016d0_,_3): 864.06677\n",
            "Flow_Blender_StorageFertlizer_(Blender_in_Chefchaouen,_Stockage_in_Chefchaouen,_<__main__.Recette_object_at_0x7f0445e6c350_,_3): 13.85\n",
            "Flow_Blender_StorageFertlizer_(Blender_in_Chefchaouen,_Stockage_in_Chefchaouen,_<__main__.Recette_object_at_0x7f044b3935d0_,_3): 65.14\n",
            "Flow_Blender_StorageFertlizer_(Blender_in_El_Jadida,_Stockage_in_Agadir_Ida_Outanane,_<__main__.Recette_object_at_0x7f04456dd790_,_3): 467.6\n",
            "Flow_Blender_StorageFertlizer_(Blender_in_El_Jadida,_Stockage_in_Agadir_Ida_Outanane,_<__main__.Recette_object_at_0x7f0445e6ca90_,_3): 83.35\n",
            "Flow_Blender_StorageFertlizer_(Blender_in_El_Jadida,_Stockage_in_Agadir_Ida_Outanane,_<__main__.Recette_object_at_0x7f0449b72890_,_3): 164.79\n",
            "Flow_Blender_StorageFertlizer_(Blender_in_El_Jadida,_Stockage_in_El_Jadida,_<__main__.Recette_object_at_0x7f04456dd590_,_2): 9198.0807\n",
            "Flow_Blender_StorageFertlizer_(Blender_in_El_Jadida,_Stockage_in_El_Jadida,_<__main__.Recette_object_at_0x7f04456dd590_,_3): 6631.5693\n",
            "Flow_Blender_StorageFertlizer_(Blender_in_El_Jadida,_Stockage_in_El_Jadida,_<__main__.Recette_object_at_0x7f04456dda10_,_3): 5.97\n",
            "Flow_Blender_StorageFertlizer_(Blender_in_El_Jadida,_Stockage_in_El_Jadida,_<__main__.Recette_object_at_0x7f0445e56d10_,_3): 0.29\n",
            "Flow_Blender_StorageFertlizer_(Blender_in_El_Jadida,_Stockage_in_El_Jadida,_<__main__.Recette_object_at_0x7f0446a76710_,_3): 304.95\n",
            "Flow_Blender_StorageFertlizer_(Blender_in_El_Jadida,_Stockage_in_El_Jadida,_<__main__.Recette_object_at_0x7f0446a76a10_,_3): 1316.82\n",
            "Flow_Blender_StorageFertlizer_(Blender_in_El_Jadida,_Stockage_in_El_Jadida,_<__main__.Recette_object_at_0x7f0446a76f90_,_3): 2408.19\n",
            "Flow_Blender_StorageFertlizer_(Blender_in_El_Jadida,_Stockage_in_El_Jadida,_<__main__.Recette_object_at_0x7f0446e3e690_,_3): 202.43\n",
            "Flow_Blender_StorageFertlizer_(Blender_in_El_Jadida,_Stockage_in_El_Jadida,_<__main__.Recette_object_at_0x7f0446e3e7d0_,_3): 12.27\n",
            "Flow_StorageFertlizer_Province_(Blender_in_Agadir_Ida_Outanane,_<__main__.Recette_object_at_0x7f04456dd710_,_1): 143.67181\n",
            "Flow_StorageFertlizer_Province_(Blender_in_Agadir_Ida_Outanane,_<__main__.Recette_object_at_0x7f04456dd710_,_4): 287.34\n",
            "Flow_StorageFertlizer_Province_(Blender_in_Agadir_Ida_Outanane,_<__main__.Recette_object_at_0x7f04456dd790_,_1): 1296.0004\n",
            "Flow_StorageFertlizer_Province_(Blender_in_Agadir_Ida_Outanane,_<__main__.Recette_object_at_0x7f04456dd790_,_4): 2124.4\n",
            "Flow_StorageFertlizer_Province_(Blender_in_Agadir_Ida_Outanane,_<__main__.Recette_object_at_0x7f0445e6c050_,_1): 0.60468668\n",
            "Flow_StorageFertlizer_Province_(Blender_in_Agadir_Ida_Outanane,_<__main__.Recette_object_at_0x7f0445e6c050_,_4): 1.21\n",
            "Flow_StorageFertlizer_Province_(Blender_in_Agadir_Ida_Outanane,_<__main__.Recette_object_at_0x7f0445e6ca90_,_1): 41.672799\n",
            "Flow_StorageFertlizer_Province_(Blender_in_Agadir_Ida_Outanane,_<__main__.Recette_object_at_0x7f0445e6cf90_,_1): 379.99982\n",
            "Flow_StorageFertlizer_Province_(Blender_in_Agadir_Ida_Outanane,_<__main__.Recette_object_at_0x7f0445e6cf90_,_4): 760.0\n",
            "Flow_StorageFertlizer_Province_(Blender_in_Agadir_Ida_Outanane,_<__main__.Recette_object_at_0x7f0445eed410_,_1): 13.526848\n",
            "Flow_StorageFertlizer_Province_(Blender_in_Agadir_Ida_Outanane,_<__main__.Recette_object_at_0x7f0445eed410_,_4): 27.05\n",
            "Flow_StorageFertlizer_Province_(Blender_in_Agadir_Ida_Outanane,_<__main__.Recette_object_at_0x7f0449b72890_,_1): 82.394382\n",
            "Flow_StorageFertlizer_Province_(Blender_in_Casablanca,_<__main__.Recette_object_at_0x7f04456dd590_,_1): 1614.2909\n",
            "Flow_StorageFertlizer_Province_(Blender_in_Casablanca,_<__main__.Recette_object_at_0x7f04456dd7d0_,_1): 853.11723\n",
            "Flow_StorageFertlizer_Province_(Blender_in_Casablanca,_<__main__.Recette_object_at_0x7f04456dd810_,_1): 72.881101\n",
            "Flow_StorageFertlizer_Province_(Blender_in_Casablanca,_<__main__.Recette_object_at_0x7f04457a5d90_,_1): 57.409524\n",
            "Flow_StorageFertlizer_Province_(Blender_in_Casablanca,_<__main__.Recette_object_at_0x7f04457a5d90_,_2): 9.5682541\n",
            "Flow_StorageFertlizer_Province_(Blender_in_Casablanca,_<__main__.Recette_object_at_0x7f04457a5d90_,_3): 9.57\n",
            "Flow_StorageFertlizer_Province_(Blender_in_Casablanca,_<__main__.Recette_object_at_0x7f04457a5d90_,_4): 114.82\n",
            "Flow_StorageFertlizer_Province_(Blender_in_Casablanca,_<__main__.Recette_object_at_0x7f04457d1c10_,_4): 418.94\n",
            "Flow_StorageFertlizer_Province_(Blender_in_Casablanca,_<__main__.Recette_object_at_0x7f04458573d0_,_1): 1.91464\n",
            "Flow_StorageFertlizer_Province_(Blender_in_Casablanca,_<__main__.Recette_object_at_0x7f04458573d0_,_2): 0.31910667\n",
            "Flow_StorageFertlizer_Province_(Blender_in_Casablanca,_<__main__.Recette_object_at_0x7f04458573d0_,_3): 0.32\n",
            "Flow_StorageFertlizer_Province_(Blender_in_Casablanca,_<__main__.Recette_object_at_0x7f04458573d0_,_4): 3.83\n",
            "Flow_StorageFertlizer_Province_(Blender_in_Casablanca,_<__main__.Recette_object_at_0x7f0445857c50_,_4): 0.06\n",
            "Flow_StorageFertlizer_Province_(Blender_in_Casablanca,_<__main__.Recette_object_at_0x7f0445d46cd0_,_1): 60.622859\n",
            "Flow_StorageFertlizer_Province_(Blender_in_Casablanca,_<__main__.Recette_object_at_0x7f0445d46cd0_,_2): 10.10381\n",
            "Flow_StorageFertlizer_Province_(Blender_in_Casablanca,_<__main__.Recette_object_at_0x7f0445d46cd0_,_3): 10.1\n",
            "Flow_StorageFertlizer_Province_(Blender_in_Casablanca,_<__main__.Recette_object_at_0x7f0445d46cd0_,_4): 121.25\n",
            "Flow_StorageFertlizer_Province_(Blender_in_Casablanca,_<__main__.Recette_object_at_0x7f0445e56c90_,_1): 2.5621332\n",
            "Flow_StorageFertlizer_Province_(Blender_in_Casablanca,_<__main__.Recette_object_at_0x7f0445e56c90_,_4): 5.12\n",
            "Flow_StorageFertlizer_Province_(Blender_in_Casablanca,_<__main__.Recette_object_at_0x7f0445e6c110_,_1): 22.438177\n",
            "Flow_StorageFertlizer_Province_(Blender_in_Casablanca,_<__main__.Recette_object_at_0x7f0445e6c110_,_2): 3.7396961\n",
            "Flow_StorageFertlizer_Province_(Blender_in_Casablanca,_<__main__.Recette_object_at_0x7f0445e6c110_,_3): 3.74\n",
            "Flow_StorageFertlizer_Province_(Blender_in_Casablanca,_<__main__.Recette_object_at_0x7f0445e6c110_,_4): 44.88\n",
            "Flow_StorageFertlizer_Province_(Blender_in_Casablanca,_<__main__.Recette_object_at_0x7f0445e6c2d0_,_1): 1.0022687\n",
            "Flow_StorageFertlizer_Province_(Blender_in_Casablanca,_<__main__.Recette_object_at_0x7f0445e6c2d0_,_2): 0.16704478\n",
            "Flow_StorageFertlizer_Province_(Blender_in_Casablanca,_<__main__.Recette_object_at_0x7f0445e6c2d0_,_3): 0.17\n",
            "Flow_StorageFertlizer_Province_(Blender_in_Casablanca,_<__main__.Recette_object_at_0x7f0445e6c2d0_,_4): 2.0\n",
            "Flow_StorageFertlizer_Province_(Blender_in_Casablanca,_<__main__.Recette_object_at_0x7f0445e6c790_,_1): 45.542592\n",
            "Flow_StorageFertlizer_Province_(Blender_in_Casablanca,_<__main__.Recette_object_at_0x7f0445e6c790_,_2): 7.590432\n",
            "Flow_StorageFertlizer_Province_(Blender_in_Casablanca,_<__main__.Recette_object_at_0x7f0445e6c790_,_3): 7.59\n",
            "Flow_StorageFertlizer_Province_(Blender_in_Casablanca,_<__main__.Recette_object_at_0x7f0445e6c790_,_4): 91.09\n",
            "Flow_StorageFertlizer_Province_(Blender_in_Casablanca,_<__main__.Recette_object_at_0x7f0445eed710_,_1): 58.222518\n",
            "Flow_StorageFertlizer_Province_(Blender_in_Casablanca,_<__main__.Recette_object_at_0x7f0445eed710_,_2): 9.7037529\n",
            "Flow_StorageFertlizer_Province_(Blender_in_Casablanca,_<__main__.Recette_object_at_0x7f0445eed710_,_3): 9.7\n",
            "Flow_StorageFertlizer_Province_(Blender_in_Casablanca,_<__main__.Recette_object_at_0x7f0445eed710_,_4): 116.45\n",
            "Flow_StorageFertlizer_Province_(Blender_in_Casablanca,_<__main__.Recette_object_at_0x7f0446a762d0_,_1): 44.720605\n",
            "Flow_StorageFertlizer_Province_(Blender_in_Casablanca,_<__main__.Recette_object_at_0x7f0446a762d0_,_4): 247.97\n",
            "Flow_StorageFertlizer_Province_(Blender_in_Casablanca,_<__main__.Recette_object_at_0x7f0446e3e0d0_,_1): 35.411877\n",
            "Flow_StorageFertlizer_Province_(Blender_in_Casablanca,_<__main__.Recette_object_at_0x7f0446e3e0d0_,_4): 70.82\n",
            "Flow_StorageFertlizer_Province_(Blender_in_Casablanca,_<__main__.Recette_object_at_0x7f0446e3ed90_,_1): 170.3763\n",
            "Flow_StorageFertlizer_Province_(Blender_in_Casablanca,_<__main__.Recette_object_at_0x7f0446e3ed90_,_4): 340.75\n",
            "Flow_StorageFertlizer_Province_(Blender_in_Casablanca,_<__main__.Recette_object_at_0x7f044778a310_,_1): 76.301393\n",
            "Flow_StorageFertlizer_Province_(Blender_in_Casablanca,_<__main__.Recette_object_at_0x7f044778a310_,_2): 12.716899\n",
            "Flow_StorageFertlizer_Province_(Blender_in_Casablanca,_<__main__.Recette_object_at_0x7f044778a310_,_3): 12.72\n",
            "Flow_StorageFertlizer_Province_(Blender_in_Casablanca,_<__main__.Recette_object_at_0x7f044778a310_,_4): 152.6\n",
            "Flow_StorageFertlizer_Province_(Blender_in_Casablanca,_<__main__.Recette_object_at_0x7f0448557310_,_1): 1158.7315\n",
            "Flow_StorageFertlizer_Province_(Blender_in_Casablanca,_<__main__.Recette_object_at_0x7f0448557310_,_2): 193.12191\n",
            "Flow_StorageFertlizer_Province_(Blender_in_Casablanca,_<__main__.Recette_object_at_0x7f0448557310_,_3): 193.12\n",
            "Flow_StorageFertlizer_Province_(Blender_in_Casablanca,_<__main__.Recette_object_at_0x7f0448557310_,_4): 2317.46\n",
            "Flow_StorageFertlizer_Province_(Blender_in_Casablanca,_<__main__.Recette_object_at_0x7f04485a4650_,_1): 99.137452\n",
            "Flow_StorageFertlizer_Province_(Blender_in_Casablanca,_<__main__.Recette_object_at_0x7f04485a4650_,_4): 198.27\n",
            "Flow_StorageFertlizer_Province_(Blender_in_Casablanca,_<__main__.Recette_object_at_0x7f0449b72490_,_1): 5.8682347\n",
            "Flow_StorageFertlizer_Province_(Blender_in_Casablanca,_<__main__.Recette_object_at_0x7f0449b72490_,_4): 11.74\n",
            "Flow_StorageFertlizer_Province_(Blender_in_Chefchaouen,_<__main__.Recette_object_at_0x7f04457d1c10_,_1): 209.47014\n",
            "Flow_StorageFertlizer_Province_(Blender_in_Chefchaouen,_<__main__.Recette_object_at_0x7f04457d1c10_,_2): 34.91169\n",
            "Flow_StorageFertlizer_Province_(Blender_in_Chefchaouen,_<__main__.Recette_object_at_0x7f04457d1c10_,_3): 34.91\n",
            "Flow_StorageFertlizer_Province_(Blender_in_Chefchaouen,_<__main__.Recette_object_at_0x7f0445857c50_,_1): 0.02874769\n",
            "Flow_StorageFertlizer_Province_(Blender_in_Chefchaouen,_<__main__.Recette_object_at_0x7f0445857c50_,_2): 0.0047912816\n",
            "Flow_StorageFertlizer_Province_(Blender_in_Chefchaouen,_<__main__.Recette_object_at_0x7f04458a56d0_,_1): 760.09547\n",
            "Flow_StorageFertlizer_Province_(Blender_in_Chefchaouen,_<__main__.Recette_object_at_0x7f04458a56d0_,_2): 126.68258\n",
            "Flow_StorageFertlizer_Province_(Blender_in_Chefchaouen,_<__main__.Recette_object_at_0x7f04458a56d0_,_3): 126.68\n",
            "Flow_StorageFertlizer_Province_(Blender_in_Chefchaouen,_<__main__.Recette_object_at_0x7f0445b016d0_,_1): 511.63927\n",
            "Flow_StorageFertlizer_Province_(Blender_in_Chefchaouen,_<__main__.Recette_object_at_0x7f0445b016d0_,_2): 85.273212\n",
            "Flow_StorageFertlizer_Province_(Blender_in_Chefchaouen,_<__main__.Recette_object_at_0x7f0445b016d0_,_3): 85.27\n",
            "Flow_StorageFertlizer_Province_(Blender_in_Chefchaouen,_<__main__.Recette_object_at_0x7f0445e6c350_,_1): 6.9270594\n",
            "Flow_StorageFertlizer_Province_(Blender_in_Chefchaouen,_<__main__.Recette_object_at_0x7f0445e6c350_,_2): 1.1545099\n",
            "Flow_StorageFertlizer_Province_(Blender_in_Chefchaouen,_<__main__.Recette_object_at_0x7f0445e6c350_,_3): 1.15\n",
            "Flow_StorageFertlizer_Province_(Blender_in_Chefchaouen,_<__main__.Recette_object_at_0x7f04469142d0_,_1): 68.526682\n",
            "Flow_StorageFertlizer_Province_(Blender_in_Chefchaouen,_<__main__.Recette_object_at_0x7f04469142d0_,_2): 11.421114\n",
            "Flow_StorageFertlizer_Province_(Blender_in_Chefchaouen,_<__main__.Recette_object_at_0x7f04469142d0_,_3): 11.42\n",
            "Flow_StorageFertlizer_Province_(Blender_in_Chefchaouen,_<__main__.Recette_object_at_0x7f04469142d0_,_4): 137.05\n",
            "Flow_StorageFertlizer_Province_(Blender_in_Chefchaouen,_<__main__.Recette_object_at_0x7f0446a762d0_,_1): 79.263458\n",
            "Flow_StorageFertlizer_Province_(Blender_in_Chefchaouen,_<__main__.Recette_object_at_0x7f0446a762d0_,_2): 20.664011\n",
            "Flow_StorageFertlizer_Province_(Blender_in_Chefchaouen,_<__main__.Recette_object_at_0x7f0446a762d0_,_3): 20.66\n",
            "Flow_StorageFertlizer_Province_(Blender_in_Chefchaouen,_<__main__.Recette_object_at_0x7f0446e3ea10_,_1): 94.892389\n",
            "Flow_StorageFertlizer_Province_(Blender_in_Chefchaouen,_<__main__.Recette_object_at_0x7f0446e3ea10_,_2): 15.815398\n",
            "Flow_StorageFertlizer_Province_(Blender_in_Chefchaouen,_<__main__.Recette_object_at_0x7f0446e3ea10_,_3): 15.82\n",
            "Flow_StorageFertlizer_Province_(Blender_in_Chefchaouen,_<__main__.Recette_object_at_0x7f0446e3ea10_,_4): 189.78\n",
            "Flow_StorageFertlizer_Province_(Blender_in_Chefchaouen,_<__main__.Recette_object_at_0x7f044b3935d0_,_1): 1469.1568\n",
            "Flow_StorageFertlizer_Province_(Blender_in_Chefchaouen,_<__main__.Recette_object_at_0x7f044b3935d0_,_2): 244.85946\n",
            "Flow_StorageFertlizer_Province_(Blender_in_Chefchaouen,_<__main__.Recette_object_at_0x7f044b3935d0_,_3): 244.86\n",
            "Flow_StorageFertlizer_Province_(Blender_in_Chefchaouen,_<__main__.Recette_object_at_0x7f044b3935d0_,_4): 2873.17\n",
            "Flow_StorageFertlizer_Province_(Blender_in_El_Jadida,_<__main__.Recette_object_at_0x7f04456dd590_,_1): 12874.539\n",
            "Flow_StorageFertlizer_Province_(Blender_in_El_Jadida,_<__main__.Recette_object_at_0x7f04456dd590_,_2): 2414.805\n",
            "Flow_StorageFertlizer_Province_(Blender_in_El_Jadida,_<__main__.Recette_object_at_0x7f04456dd590_,_3): 2414.81\n",
            "Flow_StorageFertlizer_Province_(Blender_in_El_Jadida,_<__main__.Recette_object_at_0x7f04456dd590_,_4): 13148.01\n",
            "Flow_StorageFertlizer_Province_(Blender_in_El_Jadida,_<__main__.Recette_object_at_0x7f04456dd710_,_2): 23.945301\n",
            "Flow_StorageFertlizer_Province_(Blender_in_El_Jadida,_<__main__.Recette_object_at_0x7f04456dd710_,_3): 23.95\n",
            "Flow_StorageFertlizer_Province_(Blender_in_El_Jadida,_<__main__.Recette_object_at_0x7f04456dd790_,_2): 216.00007\n",
            "Flow_StorageFertlizer_Province_(Blender_in_El_Jadida,_<__main__.Recette_object_at_0x7f04456dd790_,_3): 216.0\n",
            "Flow_StorageFertlizer_Province_(Blender_in_El_Jadida,_<__main__.Recette_object_at_0x7f04456dd7d0_,_2): 142.1862\n",
            "Flow_StorageFertlizer_Province_(Blender_in_El_Jadida,_<__main__.Recette_object_at_0x7f04456dd7d0_,_3): 142.19\n",
            "Flow_StorageFertlizer_Province_(Blender_in_El_Jadida,_<__main__.Recette_object_at_0x7f04456dd7d0_,_4): 1706.23\n",
            "Flow_StorageFertlizer_Province_(Blender_in_El_Jadida,_<__main__.Recette_object_at_0x7f04456dd810_,_2): 12.14685\n",
            "Flow_StorageFertlizer_Province_(Blender_in_El_Jadida,_<__main__.Recette_object_at_0x7f04456dd810_,_3): 12.15\n",
            "Flow_StorageFertlizer_Province_(Blender_in_El_Jadida,_<__main__.Recette_object_at_0x7f04456dd810_,_4): 145.76\n",
            "Flow_StorageFertlizer_Province_(Blender_in_El_Jadida,_<__main__.Recette_object_at_0x7f04456dda10_,_1): 2.9840592\n",
            "Flow_StorageFertlizer_Province_(Blender_in_El_Jadida,_<__main__.Recette_object_at_0x7f04456dda10_,_2): 0.49734319\n",
            "Flow_StorageFertlizer_Province_(Blender_in_El_Jadida,_<__main__.Recette_object_at_0x7f04456dda10_,_3): 0.5\n",
            "Flow_StorageFertlizer_Province_(Blender_in_El_Jadida,_<__main__.Recette_object_at_0x7f0445e56c90_,_2): 0.42702219\n",
            "Flow_StorageFertlizer_Province_(Blender_in_El_Jadida,_<__main__.Recette_object_at_0x7f0445e56c90_,_3): 0.43\n",
            "Flow_StorageFertlizer_Province_(Blender_in_El_Jadida,_<__main__.Recette_object_at_0x7f0445e56d10_,_1): 0.14569186\n",
            "Flow_StorageFertlizer_Province_(Blender_in_El_Jadida,_<__main__.Recette_object_at_0x7f0445e56d10_,_2): 0.024281976\n",
            "Flow_StorageFertlizer_Province_(Blender_in_El_Jadida,_<__main__.Recette_object_at_0x7f0445e56d10_,_3): 0.02\n",
            "Flow_StorageFertlizer_Province_(Blender_in_El_Jadida,_<__main__.Recette_object_at_0x7f0445e6c050_,_2): 0.10078111\n",
            "Flow_StorageFertlizer_Province_(Blender_in_El_Jadida,_<__main__.Recette_object_at_0x7f0445e6c050_,_3): 0.1\n",
            "Flow_StorageFertlizer_Province_(Blender_in_El_Jadida,_<__main__.Recette_object_at_0x7f0445e6ca90_,_2): 6.9454665\n",
            "Flow_StorageFertlizer_Province_(Blender_in_El_Jadida,_<__main__.Recette_object_at_0x7f0445e6ca90_,_3): 6.95\n",
            "Flow_StorageFertlizer_Province_(Blender_in_El_Jadida,_<__main__.Recette_object_at_0x7f0445e6cf90_,_2): 63.333303\n",
            "Flow_StorageFertlizer_Province_(Blender_in_El_Jadida,_<__main__.Recette_object_at_0x7f0445e6cf90_,_3): 63.33\n",
            "Flow_StorageFertlizer_Province_(Blender_in_El_Jadida,_<__main__.Recette_object_at_0x7f0445eed410_,_2): 2.2544747\n",
            "Flow_StorageFertlizer_Province_(Blender_in_El_Jadida,_<__main__.Recette_object_at_0x7f0445eed410_,_3): 2.25\n",
            "Flow_StorageFertlizer_Province_(Blender_in_El_Jadida,_<__main__.Recette_object_at_0x7f0446a76710_,_1): 152.47257\n",
            "Flow_StorageFertlizer_Province_(Blender_in_El_Jadida,_<__main__.Recette_object_at_0x7f0446a76710_,_2): 25.412095\n",
            "Flow_StorageFertlizer_Province_(Blender_in_El_Jadida,_<__main__.Recette_object_at_0x7f0446a76710_,_3): 25.41\n",
            "Flow_StorageFertlizer_Province_(Blender_in_El_Jadida,_<__main__.Recette_object_at_0x7f0446a76a10_,_1): 658.41165\n",
            "Flow_StorageFertlizer_Province_(Blender_in_El_Jadida,_<__main__.Recette_object_at_0x7f0446a76a10_,_2): 109.73528\n",
            "Flow_StorageFertlizer_Province_(Blender_in_El_Jadida,_<__main__.Recette_object_at_0x7f0446a76a10_,_3): 109.74\n",
            "Flow_StorageFertlizer_Province_(Blender_in_El_Jadida,_<__main__.Recette_object_at_0x7f0446a76f90_,_1): 1204.0943\n",
            "Flow_StorageFertlizer_Province_(Blender_in_El_Jadida,_<__main__.Recette_object_at_0x7f0446a76f90_,_2): 200.68238\n",
            "Flow_StorageFertlizer_Province_(Blender_in_El_Jadida,_<__main__.Recette_object_at_0x7f0446a76f90_,_3): 200.68\n",
            "Flow_StorageFertlizer_Province_(Blender_in_El_Jadida,_<__main__.Recette_object_at_0x7f0446e3e0d0_,_2): 5.9019795\n",
            "Flow_StorageFertlizer_Province_(Blender_in_El_Jadida,_<__main__.Recette_object_at_0x7f0446e3e0d0_,_3): 5.9\n",
            "Flow_StorageFertlizer_Province_(Blender_in_El_Jadida,_<__main__.Recette_object_at_0x7f0446e3e690_,_1): 101.21722\n",
            "Flow_StorageFertlizer_Province_(Blender_in_El_Jadida,_<__main__.Recette_object_at_0x7f0446e3e690_,_2): 16.869536\n",
            "Flow_StorageFertlizer_Province_(Blender_in_El_Jadida,_<__main__.Recette_object_at_0x7f0446e3e690_,_3): 16.87\n",
            "Flow_StorageFertlizer_Province_(Blender_in_El_Jadida,_<__main__.Recette_object_at_0x7f0446e3e7d0_,_1): 6.1354489\n",
            "Flow_StorageFertlizer_Province_(Blender_in_El_Jadida,_<__main__.Recette_object_at_0x7f0446e3e7d0_,_2): 1.0225748\n",
            "Flow_StorageFertlizer_Province_(Blender_in_El_Jadida,_<__main__.Recette_object_at_0x7f0446e3e7d0_,_3): 1.02\n",
            "Flow_StorageFertlizer_Province_(Blender_in_El_Jadida,_<__main__.Recette_object_at_0x7f0446e3ed90_,_2): 28.396049\n",
            "Flow_StorageFertlizer_Province_(Blender_in_El_Jadida,_<__main__.Recette_object_at_0x7f0446e3ed90_,_3): 28.4\n",
            "Flow_StorageFertlizer_Province_(Blender_in_El_Jadida,_<__main__.Recette_object_at_0x7f04485a4650_,_2): 16.522909\n",
            "Flow_StorageFertlizer_Province_(Blender_in_El_Jadida,_<__main__.Recette_object_at_0x7f04485a4650_,_3): 16.52\n",
            "Flow_StorageFertlizer_Province_(Blender_in_El_Jadida,_<__main__.Recette_object_at_0x7f0449b72490_,_2): 0.97803911\n",
            "Flow_StorageFertlizer_Province_(Blender_in_El_Jadida,_<__main__.Recette_object_at_0x7f0449b72490_,_3): 0.98\n",
            "Flow_StorageFertlizer_Province_(Blender_in_El_Jadida,_<__main__.Recette_object_at_0x7f0449b72890_,_2): 13.732397\n",
            "Flow_StorageFertlizer_Province_(Blender_in_El_Jadida,_<__main__.Recette_object_at_0x7f0449b72890_,_3): 13.73\n",
            "Flow_StorageFertlizer_Province_(Stockage_in_Agadir_Ida_Outanane,_<__main__.Recette_object_at_0x7f04456dd790_,_4): 467.6\n",
            "Flow_StorageFertlizer_Province_(Stockage_in_Agadir_Ida_Outanane,_<__main__.Recette_object_at_0x7f0445e6ca90_,_4): 83.35\n",
            "Flow_StorageFertlizer_Province_(Stockage_in_Agadir_Ida_Outanane,_<__main__.Recette_object_at_0x7f0449b72890_,_4): 164.79\n",
            "Flow_StorageFertlizer_Province_(Stockage_in_Chefchaouen,_<__main__.Recette_object_at_0x7f04458a56d0_,_4): 1520.19\n",
            "Flow_StorageFertlizer_Province_(Stockage_in_Chefchaouen,_<__main__.Recette_object_at_0x7f0445b016d0_,_4): 1023.28\n",
            "Flow_StorageFertlizer_Province_(Stockage_in_Chefchaouen,_<__main__.Recette_object_at_0x7f0445e6c350_,_4): 13.85\n",
            "Flow_StorageFertlizer_Province_(Stockage_in_Chefchaouen,_<__main__.Recette_object_at_0x7f044b3935d0_,_4): 65.14\n",
            "Flow_StorageFertlizer_Province_(Stockage_in_El_Jadida,_<__main__.Recette_object_at_0x7f04456dd590_,_4): 15829.65\n",
            "Flow_StorageFertlizer_Province_(Stockage_in_El_Jadida,_<__main__.Recette_object_at_0x7f04456dda10_,_4): 5.97\n",
            "Flow_StorageFertlizer_Province_(Stockage_in_El_Jadida,_<__main__.Recette_object_at_0x7f0445e56d10_,_4): 0.29\n",
            "Flow_StorageFertlizer_Province_(Stockage_in_El_Jadida,_<__main__.Recette_object_at_0x7f0446a76710_,_4): 304.95\n",
            "Flow_StorageFertlizer_Province_(Stockage_in_El_Jadida,_<__main__.Recette_object_at_0x7f0446a76a10_,_4): 1316.82\n",
            "Flow_StorageFertlizer_Province_(Stockage_in_El_Jadida,_<__main__.Recette_object_at_0x7f0446a76f90_,_4): 2408.19\n",
            "Flow_StorageFertlizer_Province_(Stockage_in_El_Jadida,_<__main__.Recette_object_at_0x7f0446e3e690_,_4): 202.43\n",
            "Flow_StorageFertlizer_Province_(Stockage_in_El_Jadida,_<__main__.Recette_object_at_0x7f0446e3e7d0_,_4): 12.27\n",
            "Flow_StorageMP_Blender_(Stockage_in_El_Jadida,_Blender_in_Agadir_Ida_Outanane,_'DAP',_4): 1081.0689\n",
            "Flow_StorageMP_Blender_(Stockage_in_El_Jadida,_Blender_in_Agadir_Ida_Outanane,_'EM',_4): 731.3113\n",
            "Flow_StorageMP_Blender_(Stockage_in_El_Jadida,_Blender_in_Agadir_Ida_Outanane,_'MAP',_4): 176.10779\n",
            "Flow_StorageMP_Blender_(Stockage_in_El_Jadida,_Blender_in_Casablanca,_'DAP',_2): 47.73062\n",
            "Flow_StorageMP_Blender_(Stockage_in_El_Jadida,_Blender_in_Casablanca,_'DAP',_3): 47.730424\n",
            "Flow_StorageMP_Blender_(Stockage_in_El_Jadida,_Blender_in_Casablanca,_'DAP',_4): 1014.7751\n",
            "Flow_StorageMP_Blender_(Stockage_in_El_Jadida,_Blender_in_Casablanca,_'EM',_2): 32.28836\n",
            "Flow_StorageMP_Blender_(Stockage_in_El_Jadida,_Blender_in_Casablanca,_'EM',_3): 32.288228\n",
            "Flow_StorageMP_Blender_(Stockage_in_El_Jadida,_Blender_in_Casablanca,_'EM',_4): 686.46549\n",
            "Flow_StorageMP_Blender_(Stockage_in_El_Jadida,_Blender_in_Casablanca,_'MAP',_2): 12.55438\n",
            "Flow_StorageMP_Blender_(Stockage_in_El_Jadida,_Blender_in_Casablanca,_'MAP',_3): 12.554125\n",
            "Flow_StorageMP_Blender_(Stockage_in_El_Jadida,_Blender_in_Casablanca,_'MAP',_4): 217.00418\n",
            "Flow_StorageMP_Blender_(Stockage_in_El_Jadida,_Blender_in_Chefchaouen,_'DAP',_2): 141.59276\n",
            "Flow_StorageMP_Blender_(Stockage_in_El_Jadida,_Blender_in_Chefchaouen,_'DAP',_3): 617.01503\n",
            "Flow_StorageMP_Blender_(Stockage_in_El_Jadida,_Blender_in_Chefchaouen,_'DAP',_4): 632.1979\n",
            "Flow_StorageMP_Blender_(Stockage_in_El_Jadida,_Blender_in_Chefchaouen,_'EM',_2): 95.783341\n",
            "Flow_StorageMP_Blender_(Stockage_in_El_Jadida,_Blender_in_Chefchaouen,_'EM',_3): 417.39252\n",
            "Flow_StorageMP_Blender_(Stockage_in_El_Jadida,_Blender_in_Chefchaouen,_'EM',_4): 427.66328\n",
            "Flow_StorageMP_Blender_(Stockage_in_El_Jadida,_Blender_in_Chefchaouen,_'MAP',_2): 41.423695\n",
            "Flow_StorageMP_Blender_(Stockage_in_El_Jadida,_Blender_in_Chefchaouen,_'MAP',_3): 174.1271\n",
            "Flow_StorageMP_Blender_(Stockage_in_El_Jadida,_Blender_in_Chefchaouen,_'MAP',_4): 144.34761\n",
            "Flow_Supply_Blender_(Supplier_in_OCP_Jorf,_Blender_in_Agadir_Ida_Outanane,_'DAP',_1): 679.87593\n",
            "Flow_Supply_Blender_(Supplier_in_OCP_Jorf,_Blender_in_Agadir_Ida_Outanane,_'EM',_1): 459.91607\n",
            "Flow_Supply_Blender_(Supplier_in_OCP_Jorf,_Blender_in_Agadir_Ida_Outanane,_'MAP',_1): 105.57735\n",
            "Flow_Supply_Blender_(Supplier_in_OCP_Jorf,_Blender_in_Casablanca,_'DAP',_1): 764.31966\n",
            "Flow_Supply_Blender_(Supplier_in_OCP_Jorf,_Blender_in_Casablanca,_'EM',_1): 517.03977\n",
            "Flow_Supply_Blender_(Supplier_in_OCP_Jorf,_Blender_in_Casablanca,_'MAP',_1): 184.08971\n",
            "Flow_Supply_Blender_(Supplier_in_OCP_Jorf,_Blender_in_Chefchaouen,_'DAP',_1): 653.31522\n",
            "Flow_Supply_Blender_(Supplier_in_OCP_Jorf,_Blender_in_Chefchaouen,_'EM',_1): 441.94853\n",
            "Flow_Supply_Blender_(Supplier_in_OCP_Jorf,_Blender_in_Chefchaouen,_'MAP',_1): 172.64708\n",
            "Flow_Supply_Blender_(Supplier_in_OCP_Jorf,_Blender_in_El_Jadida,_'DAP',_1): 2332.2353\n",
            "Flow_Supply_Blender_(Supplier_in_OCP_Jorf,_Blender_in_El_Jadida,_'DAP',_2): 1915.4093\n",
            "Flow_Supply_Blender_(Supplier_in_OCP_Jorf,_Blender_in_El_Jadida,_'DAP',_3): 2745.6974\n",
            "Flow_Supply_Blender_(Supplier_in_OCP_Jorf,_Blender_in_El_Jadida,_'DAP',_4): 2092.8493\n",
            "Flow_Supply_Blender_(Supplier_in_OCP_Jorf,_Blender_in_El_Jadida,_'EM',_1): 1577.6886\n",
            "Flow_Supply_Blender_(Supplier_in_OCP_Jorf,_Blender_in_El_Jadida,_'EM',_2): 1295.718\n",
            "Flow_Supply_Blender_(Supplier_in_OCP_Jorf,_Blender_in_El_Jadida,_'EM',_3): 1857.3835\n",
            "Flow_Supply_Blender_(Supplier_in_OCP_Jorf,_Blender_in_El_Jadida,_'EM',_4): 1415.751\n",
            "Flow_Supply_Blender_(Supplier_in_OCP_Jorf,_Blender_in_El_Jadida,_'MAP',_1): 532.40727\n",
            "Flow_Supply_Blender_(Supplier_in_OCP_Jorf,_Blender_in_El_Jadida,_'MAP',_2): 404.41591\n",
            "Flow_Supply_Blender_(Supplier_in_OCP_Jorf,_Blender_in_El_Jadida,_'MAP',_3): 641.08807\n",
            "Flow_Supply_Blender_(Supplier_in_OCP_Jorf,_Blender_in_El_Jadida,_'MAP',_4): 497.39246\n",
            "Flow_Supply_Blender_(Supplier_in_OCP_Port_Casablanca,_Blender_in_Agadir_Ida_Outanane,_'CAN',_1): 97.196167\n",
            "Flow_Supply_Blender_(Supplier_in_OCP_Port_Casablanca,_Blender_in_Agadir_Ida_Outanane,_'CAN',_4): 171.73056\n",
            "Flow_Supply_Blender_(Supplier_in_OCP_Port_Casablanca,_Blender_in_Agadir_Ida_Outanane,_'DURAMON_26%',_1): 109.34569\n",
            "Flow_Supply_Blender_(Supplier_in_OCP_Port_Casablanca,_Blender_in_Agadir_Ida_Outanane,_'DURAMON_26%',_4): 193.19688\n",
            "Flow_Supply_Blender_(Supplier_in_OCP_Port_Casablanca,_Blender_in_Agadir_Ida_Outanane,_'MOP',_1): 358.963\n",
            "Flow_Supply_Blender_(Supplier_in_OCP_Port_Casablanca,_Blender_in_Agadir_Ida_Outanane,_'MOP',_4): 598.76649\n",
            "Flow_Supply_Blender_(Supplier_in_OCP_Port_Casablanca,_Blender_in_Casablanca,_'CAN',_1): 923.72612\n",
            "Flow_Supply_Blender_(Supplier_in_OCP_Port_Casablanca,_Blender_in_Casablanca,_'CAN',_2): 39.172603\n",
            "Flow_Supply_Blender_(Supplier_in_OCP_Port_Casablanca,_Blender_in_Casablanca,_'CAN',_3): 39.172883\n",
            "Flow_Supply_Blender_(Supplier_in_OCP_Port_Casablanca,_Blender_in_Casablanca,_'CAN',_4): 518.22751\n",
            "Flow_Supply_Blender_(Supplier_in_OCP_Port_Casablanca,_Blender_in_Casablanca,_'DURAMON_26%',_1): 1039.1919\n",
            "Flow_Supply_Blender_(Supplier_in_OCP_Port_Casablanca,_Blender_in_Casablanca,_'DURAMON_26%',_2): 44.069178\n",
            "Flow_Supply_Blender_(Supplier_in_OCP_Port_Casablanca,_Blender_in_Casablanca,_'DURAMON_26%',_3): 44.069494\n",
            "Flow_Supply_Blender_(Supplier_in_OCP_Port_Casablanca,_Blender_in_Casablanca,_'DURAMON_26%',_4): 583.00595\n",
            "Flow_Supply_Blender_(Supplier_in_OCP_Port_Casablanca,_Blender_in_Casablanca,_'MOP',_1): 625.90503\n",
            "Flow_Supply_Blender_(Supplier_in_OCP_Port_Casablanca,_Blender_in_Casablanca,_'MOP',_2): 42.684892\n",
            "Flow_Supply_Blender_(Supplier_in_OCP_Port_Casablanca,_Blender_in_Casablanca,_'MOP',_3): 42.684026\n",
            "Flow_Supply_Blender_(Supplier_in_OCP_Port_Casablanca,_Blender_in_Casablanca,_'MOP',_4): 737.81421\n",
            "Flow_Supply_Blender_(Supplier_in_OCP_Port_Casablanca,_Blender_in_El_Jadida,_'CAN',_1): 3644.7846\n",
            "Flow_Supply_Blender_(Supplier_in_OCP_Port_Casablanca,_Blender_in_El_Jadida,_'CAN',_2): 3114.6052\n",
            "Flow_Supply_Blender_(Supplier_in_OCP_Port_Casablanca,_Blender_in_El_Jadida,_'CAN',_3): 3111.9682\n",
            "Flow_Supply_Blender_(Supplier_in_OCP_Port_Casablanca,_Blender_in_El_Jadida,_'CAN',_4): 3910.1531\n",
            "Flow_Supply_Blender_(Supplier_in_OCP_Port_Casablanca,_Blender_in_El_Jadida,_'DURAMON_26%',_1): 4100.3827\n",
            "Flow_Supply_Blender_(Supplier_in_OCP_Port_Casablanca,_Blender_in_El_Jadida,_'DURAMON_26%',_2): 3503.9308\n",
            "Flow_Supply_Blender_(Supplier_in_OCP_Port_Casablanca,_Blender_in_El_Jadida,_'DURAMON_26%',_3): 3500.9642\n",
            "Flow_Supply_Blender_(Supplier_in_OCP_Port_Casablanca,_Blender_in_El_Jadida,_'DURAMON_26%',_4): 4398.9222\n",
            "Flow_Supply_Blender_(Supplier_in_OCP_Port_Casablanca,_Blender_in_El_Jadida,_'MOP',_1): 1810.1847\n",
            "Flow_Supply_Blender_(Supplier_in_OCP_Port_Casablanca,_Blender_in_El_Jadida,_'MOP',_2): 1375.0141\n",
            "Flow_Supply_Blender_(Supplier_in_OCP_Port_Casablanca,_Blender_in_El_Jadida,_'MOP',_3): 2179.6994\n",
            "Flow_Supply_Blender_(Supplier_in_OCP_Port_Casablanca,_Blender_in_El_Jadida,_'MOP',_4): 1691.1344\n",
            "Flow_Supply_Blender_(Supplier_in_OCP_Port_Tanger,_Blender_in_Chefchaouen,_'CAN',_1): 499.50479\n",
            "Flow_Supply_Blender_(Supplier_in_OCP_Port_Tanger,_Blender_in_Chefchaouen,_'CAN',_2): 102.75999\n",
            "Flow_Supply_Blender_(Supplier_in_OCP_Port_Tanger,_Blender_in_Chefchaouen,_'CAN',_3): 472.92088\n",
            "Flow_Supply_Blender_(Supplier_in_OCP_Port_Tanger,_Blender_in_Chefchaouen,_'CAN',_4): 571.44549\n",
            "Flow_Supply_Blender_(Supplier_in_OCP_Port_Tanger,_Blender_in_Chefchaouen,_'DURAMON_26%',_1): 561.94289\n",
            "Flow_Supply_Blender_(Supplier_in_OCP_Port_Tanger,_Blender_in_Chefchaouen,_'DURAMON_26%',_2): 115.60499\n",
            "Flow_Supply_Blender_(Supplier_in_OCP_Port_Tanger,_Blender_in_Chefchaouen,_'DURAMON_26%',_3): 532.03599\n",
            "Flow_Supply_Blender_(Supplier_in_OCP_Port_Tanger,_Blender_in_Chefchaouen,_'DURAMON_26%',_4): 642.87618\n",
            "Flow_Supply_Blender_(Supplier_in_OCP_Port_Tanger,_Blender_in_Chefchaouen,_'MOP',_1): 587.00009\n",
            "Flow_Supply_Blender_(Supplier_in_OCP_Port_Tanger,_Blender_in_Chefchaouen,_'MOP',_2): 140.84056\n",
            "Flow_Supply_Blender_(Supplier_in_OCP_Port_Tanger,_Blender_in_Chefchaouen,_'MOP',_3): 592.03213\n",
            "Flow_Supply_Blender_(Supplier_in_OCP_Port_Tanger,_Blender_in_Chefchaouen,_'MOP',_4): 490.78188\n",
            "Flow_Supply_Blender_(Supplier_in_OCP_SAFI,_Blender_in_Agadir_Ida_Outanane,_'TSP',_1): 146.99653\n",
            "Flow_Supply_Blender_(Supplier_in_OCP_SAFI,_Blender_in_Agadir_Ida_Outanane,_'TSP',_4): 247.8181\n",
            "Flow_Supply_Blender_(Supplier_in_OCP_SAFI,_Blender_in_Casablanca,_'TSP',_1): 326.2791\n",
            "Flow_Supply_Blender_(Supplier_in_OCP_SAFI,_Blender_in_Casablanca,_'TSP',_2): 28.530873\n",
            "Flow_Supply_Blender_(Supplier_in_OCP_SAFI,_Blender_in_Casablanca,_'TSP',_3): 28.53082\n",
            "Flow_Supply_Blender_(Supplier_in_OCP_SAFI,_Blender_in_Casablanca,_'TSP',_4): 500.75758\n",
            "Flow_Supply_Blender_(Supplier_in_OCP_SAFI,_Blender_in_Chefchaouen,_'TSP',_1): 283.6414\n",
            "Flow_Supply_Blender_(Supplier_in_OCP_SAFI,_Blender_in_Chefchaouen,_'TSP',_2): 61.994646\n",
            "Flow_Supply_Blender_(Supplier_in_OCP_SAFI,_Blender_in_Chefchaouen,_'TSP',_3): 198.49313\n",
            "Flow_Supply_Blender_(Supplier_in_OCP_SAFI,_Blender_in_Chefchaouen,_'TSP',_4): 290.68767\n",
            "Flow_Supply_Blender_(Supplier_in_OCP_SAFI,_Blender_in_El_Jadida,_'TSP',_1): 1002.3168\n",
            "Flow_Supply_Blender_(Supplier_in_OCP_SAFI,_Blender_in_El_Jadida,_'TSP',_2): 890.90677\n",
            "Flow_Supply_Blender_(Supplier_in_OCP_SAFI,_Blender_in_El_Jadida,_'TSP',_3): 863.35852\n",
            "Flow_Supply_Blender_(Supplier_in_OCP_SAFI,_Blender_in_El_Jadida,_'TSP',_4): 993.79759\n",
            "Flow_Supply_StorageMP_(Supplier_in_OCP_Jorf,_Stockage_in_El_Jadida,_'DAP',_1): 189.32338\n",
            "Flow_Supply_StorageMP_(Supplier_in_OCP_Jorf,_Stockage_in_El_Jadida,_'DAP',_2): 664.74545\n",
            "Flow_Supply_StorageMP_(Supplier_in_OCP_Jorf,_Stockage_in_El_Jadida,_'DAP',_3): 2728.0419\n",
            "Flow_Supply_StorageMP_(Supplier_in_OCP_Jorf,_Stockage_in_El_Jadida,_'EM',_1): 128.0717\n",
            "Flow_Supply_StorageMP_(Supplier_in_OCP_Jorf,_Stockage_in_El_Jadida,_'EM',_2): 449.68075\n",
            "Flow_Supply_StorageMP_(Supplier_in_OCP_Jorf,_Stockage_in_El_Jadida,_'EM',_3): 1845.4401\n",
            "Flow_Supply_StorageMP_(Supplier_in_OCP_Jorf,_Stockage_in_El_Jadida,_'MAP',_1): 53.978075\n",
            "Flow_Supply_StorageMP_(Supplier_in_OCP_Jorf,_Stockage_in_El_Jadida,_'MAP',_2): 186.68122\n",
            "Flow_Supply_StorageMP_(Supplier_in_OCP_Jorf,_Stockage_in_El_Jadida,_'MAP',_3): 537.45958\n",
            "Investment_in_smart_blender_Blender_in_Agadir_Ida_Outanane: 1.0\n",
            "Investment_in_smart_blender_Blender_in_Chefchaouen: 1.0\n",
            "Investment_in_smart_blender_Blender_in_El_Jadida: 1.0\n",
            "Investment_in_storage_Stockage_in_Agadir_Ida_Outanane: 1.0\n",
            "Investment_in_storage_Stockage_in_Chefchaouen: 1.0\n",
            "Investment_in_storage_Stockage_in_El_Jadida: 1.0\n",
            "Stock_Mp_disponible_(Stockage_in_El_Jadida,_'DAP',_1): 189.32338\n",
            "Stock_Mp_disponible_(Stockage_in_El_Jadida,_'DAP',_2): 664.74545\n",
            "Stock_Mp_disponible_(Stockage_in_El_Jadida,_'DAP',_3): 2728.0419\n",
            "Stock_Mp_disponible_(Stockage_in_El_Jadida,_'EM',_1): 128.0717\n",
            "Stock_Mp_disponible_(Stockage_in_El_Jadida,_'EM',_2): 449.68075\n",
            "Stock_Mp_disponible_(Stockage_in_El_Jadida,_'EM',_3): 1845.4401\n",
            "Stock_Mp_disponible_(Stockage_in_El_Jadida,_'MAP',_1): 53.978075\n",
            "Stock_Mp_disponible_(Stockage_in_El_Jadida,_'MAP',_2): 186.68122\n",
            "Stock_Mp_disponible_(Stockage_in_El_Jadida,_'MAP',_3): 537.45958\n",
            "Stock_Pf_disponible_(Stockage_in_Agadir_Ida_Outanane,_<__main__.Recette_object_at_0x7f04456dd790_,_3): 467.6\n",
            "Stock_Pf_disponible_(Stockage_in_Agadir_Ida_Outanane,_<__main__.Recette_object_at_0x7f0445e6ca90_,_3): 83.35\n",
            "Stock_Pf_disponible_(Stockage_in_Agadir_Ida_Outanane,_<__main__.Recette_object_at_0x7f0449b72890_,_3): 164.79\n",
            "Stock_Pf_disponible_(Stockage_in_Chefchaouen,_<__main__.Recette_object_at_0x7f04458a56d0_,_3): 1520.19\n",
            "Stock_Pf_disponible_(Stockage_in_Chefchaouen,_<__main__.Recette_object_at_0x7f0445b016d0_,_2): 159.21323\n",
            "Stock_Pf_disponible_(Stockage_in_Chefchaouen,_<__main__.Recette_object_at_0x7f0445b016d0_,_3): 1023.28\n",
            "Stock_Pf_disponible_(Stockage_in_Chefchaouen,_<__main__.Recette_object_at_0x7f0445e6c350_,_3): 13.85\n",
            "Stock_Pf_disponible_(Stockage_in_Chefchaouen,_<__main__.Recette_object_at_0x7f044b3935d0_,_3): 65.14\n",
            "Stock_Pf_disponible_(Stockage_in_El_Jadida,_<__main__.Recette_object_at_0x7f04456dd590_,_2): 9198.0807\n",
            "Stock_Pf_disponible_(Stockage_in_El_Jadida,_<__main__.Recette_object_at_0x7f04456dd590_,_3): 15829.65\n",
            "Stock_Pf_disponible_(Stockage_in_El_Jadida,_<__main__.Recette_object_at_0x7f04456dda10_,_3): 5.97\n",
            "Stock_Pf_disponible_(Stockage_in_El_Jadida,_<__main__.Recette_object_at_0x7f0445e56d10_,_3): 0.29\n",
            "Stock_Pf_disponible_(Stockage_in_El_Jadida,_<__main__.Recette_object_at_0x7f0446a76710_,_3): 304.95\n",
            "Stock_Pf_disponible_(Stockage_in_El_Jadida,_<__main__.Recette_object_at_0x7f0446a76a10_,_3): 1316.82\n",
            "Stock_Pf_disponible_(Stockage_in_El_Jadida,_<__main__.Recette_object_at_0x7f0446a76f90_,_3): 2408.19\n",
            "Stock_Pf_disponible_(Stockage_in_El_Jadida,_<__main__.Recette_object_at_0x7f0446e3e690_,_3): 202.43\n",
            "Stock_Pf_disponible_(Stockage_in_El_Jadida,_<__main__.Recette_object_at_0x7f0446e3e7d0_,_3): 12.27\n",
            "Storage_investement_(Stockage_in_Agadir_Ida_Outanane,_3): 1.0\n",
            "Storage_investement_(Stockage_in_Chefchaouen,_2): 1.0\n",
            "Storage_investement_(Stockage_in_Chefchaouen,_3): 1.0\n",
            "Storage_investement_(Stockage_in_El_Jadida,_3): 1.0\n"
          ]
        }
      ]
    },
    {
      "cell_type": "code",
      "source": [
        "print(f\"objective: {model.objective.value()}\")"
      ],
      "metadata": {
        "id": "XzL9cxlZcgK5",
        "colab": {
          "base_uri": "https://localhost:8080/"
        },
        "outputId": "a9fec7e0-1c3e-44c8-dcaf-e2f72919a490"
      },
      "execution_count": null,
      "outputs": [
        {
          "output_type": "stream",
          "name": "stdout",
          "text": [
            "objective: 21936761.097967286\n"
          ]
        }
      ]
    },
    {
      "cell_type": "code",
      "source": [
        "print(logistics.value()) "
      ],
      "metadata": {
        "colab": {
          "base_uri": "https://localhost:8080/"
        },
        "id": "itBaEAUrOdqA",
        "outputId": "bf9317f6-6957-418a-f42f-47980f2fa115"
      },
      "execution_count": null,
      "outputs": [
        {
          "output_type": "stream",
          "name": "stdout",
          "text": [
            "21936761.097967286\n"
          ]
        }
      ]
    },
    {
      "cell_type": "markdown",
      "source": [
        "## Cost to market"
      ],
      "metadata": {
        "id": "3PPOMMmTHPrG"
      }
    },
    {
      "cell_type": "code",
      "source": [
        "average_cost_storage_mp = {}\n",
        "for periode in periodes:\n",
        "  for storage in list_stockages:\n",
        "    cost = lpSum([(storage == st and periode == t) *cout_transport_amont.loc[st.location,s.location]*Flow_Supply_StorageMP[s,st,m,t] for (s,st,m,t) in Supply_StorageMP]).value()\n",
        "    volume = lpSum([(storage == st and periode == t) *Flow_Supply_StorageMP[s,st,m,t] for (s,st,m,t) in Supply_StorageMP]).value()\n",
        "    average_cost_storage_mp[storage , periode] = cost/volume if volume > 0 else 0\n",
        "average_cost_storage_mp"
      ],
      "metadata": {
        "id": "_hp1YpU6jI1h",
        "colab": {
          "base_uri": "https://localhost:8080/"
        },
        "outputId": "a411bd72-eff1-4224-a1bb-e76d4969cf65"
      },
      "execution_count": null,
      "outputs": [
        {
          "output_type": "execute_result",
          "data": {
            "text/plain": [
              "{(Stockage in Agadir Ida-Outanane, 1): 0,\n",
              " (Stockage in Agadir Ida-Outanane, 2): 0,\n",
              " (Stockage in Agadir Ida-Outanane, 3): 0,\n",
              " (Stockage in Agadir Ida-Outanane, 4): 0,\n",
              " (Stockage in Benslimane, 1): 0,\n",
              " (Stockage in Benslimane, 2): 0,\n",
              " (Stockage in Benslimane, 3): 0,\n",
              " (Stockage in Benslimane, 4): 0,\n",
              " (Stockage in Casablanca, 1): 0,\n",
              " (Stockage in Casablanca, 2): 0,\n",
              " (Stockage in Casablanca, 3): 0,\n",
              " (Stockage in Casablanca, 4): 0,\n",
              " (Stockage in Chefchaouen, 1): 0,\n",
              " (Stockage in Chefchaouen, 2): 0,\n",
              " (Stockage in Chefchaouen, 3): 0,\n",
              " (Stockage in Chefchaouen, 4): 0,\n",
              " (Stockage in El Jadida, 1): 0.0,\n",
              " (Stockage in El Jadida, 2): 0.0,\n",
              " (Stockage in El Jadida, 3): 0.0,\n",
              " (Stockage in El Jadida, 4): 0}"
            ]
          },
          "metadata": {},
          "execution_count": 357
        }
      ]
    },
    {
      "cell_type": "code",
      "source": [
        "average_cost_blender = {}\n",
        "for periode in periodes :\n",
        "  for blender in list_blenders: \n",
        "    cost = lpSum([(blender == b and periode == t) *cout_transport_amont.loc[b.location , s.location]*Flow_Supply_Blender[s,b,m,t] for (s,b,m,t) in Supply_Blender]).value() +\\\n",
        "            lpSum([(blender == b and periode == t)*(cout_transport_aval.loc[st.location , b.location] + average_cost_storage_mp[st,t] + Cout_de_stockage_MP)*Flow_StorageMP_Blender[st,b,m,t] for (st,b,m,t) in StorageMP_Blender]).value()\n",
        "    volume = lpSum([(blender == b and periode == t) *Flow_Supply_Blender[s,b,m,t] for (s,b,m,t) in Supply_Blender]).value() +\\\n",
        "            lpSum([(blender == b and periode == t)*Flow_StorageMP_Blender[st,b,m,t] for (st,b,m,t) in StorageMP_Blender]).value()\n",
        "    average_cost_blender[blender , periode] = cost /volume if volume > 0 else 0 \n",
        "average_cost_blender    "
      ],
      "metadata": {
        "id": "amuuW8iZlOzU",
        "colab": {
          "base_uri": "https://localhost:8080/"
        },
        "outputId": "f0d82442-6f10-4f99-b518-408dd630def5"
      },
      "execution_count": null,
      "outputs": [
        {
          "output_type": "execute_result",
          "data": {
            "text/plain": [
              "{(Blender in Agadir Ida-Outanane, 1): 302.3972553516359,\n",
              " (Blender in Agadir Ida-Outanane, 2): 0,\n",
              " (Blender in Agadir Ida-Outanane, 3): 0,\n",
              " (Blender in Agadir Ida-Outanane, 4): 273.50430156977245,\n",
              " (Blender in Benslimane, 1): 0,\n",
              " (Blender in Benslimane, 2): 0,\n",
              " (Blender in Benslimane, 3): 0,\n",
              " (Blender in Benslimane, 4): 0,\n",
              " (Blender in Casablanca, 1): 73.44784486819563,\n",
              " (Blender in Casablanca, 2): 75.37372384235847,\n",
              " (Blender in Casablanca, 3): 75.3737000353923,\n",
              " (Blender in Casablanca, 4): 79.54419045401377,\n",
              " (Blender in Chefchaouen, 1): 207.50611964815926,\n",
              " (Blender in Chefchaouen, 2): 204.55068770916654,\n",
              " (Blender in Chefchaouen, 3): 200.12585122327621,\n",
              " (Blender in Chefchaouen, 4): 201.6524109751249,\n",
              " (Blender in El Jadida, 1): 48.8834932023284,\n",
              " (Blender in El Jadida, 2): 49.653138345977816,\n",
              " (Blender in El Jadida, 3): 44.734933063573784,\n",
              " (Blender in El Jadida, 4): 50.64973548870264}"
            ]
          },
          "metadata": {},
          "execution_count": 358
        }
      ]
    },
    {
      "cell_type": "code",
      "source": [
        "average_cost_storage_pf = {}\n",
        "for periode in periodes: \n",
        "  for storage in list_stockages:\n",
        "    cost = lpSum([(storage == st and periode == t)*(cout_transport_aval.loc[b.location,st.location]+ average_cost_blender[b,t] + (b.type =='SB')*Cout_smart_blending + (b.type =='B')*Cout_blending)*Flow_Blender_StorageFertlizer[b,st,r,t] for (b,st,r,t) in Blender_StorageFertlizer]).value()\n",
        "    volume = lpSum([(storage == st and periode == t)*Flow_Blender_StorageFertlizer[b,st,r,t] for (b,st,r,t) in Blender_StorageFertlizer]).value()\n",
        "    average_cost_storage_pf[storage , periode] = cost / volume if volume > 0 else 0\n",
        "average_cost_storage_pf"
      ],
      "metadata": {
        "id": "sn5HsyDOnje7",
        "colab": {
          "base_uri": "https://localhost:8080/"
        },
        "outputId": "7f949436-238b-472f-ccc3-770ec0f2a636"
      },
      "execution_count": null,
      "outputs": [
        {
          "output_type": "execute_result",
          "data": {
            "text/plain": [
              "{(Stockage in Agadir Ida-Outanane, 1): 0,\n",
              " (Stockage in Agadir Ida-Outanane, 2): 0,\n",
              " (Stockage in Agadir Ida-Outanane, 3): 417.6549330635738,\n",
              " (Stockage in Agadir Ida-Outanane, 4): 0,\n",
              " (Stockage in Benslimane, 1): 0,\n",
              " (Stockage in Benslimane, 2): 0,\n",
              " (Stockage in Benslimane, 3): 0,\n",
              " (Stockage in Benslimane, 4): 0,\n",
              " (Stockage in Casablanca, 1): 0,\n",
              " (Stockage in Casablanca, 2): 0,\n",
              " (Stockage in Casablanca, 3): 0,\n",
              " (Stockage in Casablanca, 4): 0,\n",
              " (Stockage in Chefchaouen, 1): 0,\n",
              " (Stockage in Chefchaouen, 2): 353.84547924638764,\n",
              " (Stockage in Chefchaouen, 3): 349.42064276049734,\n",
              " (Stockage in Chefchaouen, 4): 0,\n",
              " (Stockage in El Jadida, 1): 0,\n",
              " (Stockage in El Jadida, 2): 198.84468567062555,\n",
              " (Stockage in El Jadida, 3): 193.92648038822153,\n",
              " (Stockage in El Jadida, 4): 0}"
            ]
          },
          "metadata": {},
          "execution_count": 359
        }
      ]
    },
    {
      "cell_type": "code",
      "source": [
        "cost_to_market = {}\n",
        "for periode in periodes :\n",
        "  for recette in list_recettes:\n",
        "    cost = lpSum([(recette == r and periode == t)*(cout_transport_aval.loc[b.location,r.location] + average_cost_blender[b,t] + (b.type =='SB')*Cout_smart_blending + (b.type =='B')*Cout_blending)*Flow_Blender_Province[b,r,t] for (b,r,t) in Blender_Province]).value() +\\\n",
        "          lpSum([(recette == r and periode == t)*(cout_transport_aval.loc[st.location,r.location] + average_cost_storage_pf[st,t] + Cout_de_stockage_Engrais)*Flow_StorageFertlizer_Province[st,r,t] for (st,r,t) in StorageFertlizer_Province]).value() +\\\n",
        "          sum([recette.quantite[\"Q\" + str(periode)] * recette.composition[m]*mp.loc[m,'Prix'] for m in list_mp])\n",
        "    volume = lpSum([(recette == r and periode == t)*Flow_Blender_Province[b,r,t] for (b,r,t) in Blender_Province]).value() +\\\n",
        "          lpSum([(recette == r and periode == t)*Flow_StorageFertlizer_Province[st,r,t] for (st,r,t) in StorageFertlizer_Province]).value()\n",
        "    cost = cost/volume  if volume >0 else 0\n",
        "    cost_to_market[recette, periode] = cost * (0.06 + 0.08 + 1)\n",
        "cost_to_market\n",
        "  "
      ],
      "metadata": {
        "id": "4QHCkRNIofZK",
        "colab": {
          "base_uri": "https://localhost:8080/"
        },
        "outputId": "2c4b52b2-55fd-444b-ce86-eda214fa4380"
      },
      "execution_count": null,
      "outputs": [
        {
          "output_type": "execute_result",
          "data": {
            "text/plain": [
              "{(<__main__.Recette at 0x7f04456dd590>, 1): 2742.522566872259,\n",
              " (<__main__.Recette at 0x7f04456dd590>, 2): 2733.486106359611,\n",
              " (<__main__.Recette at 0x7f04456dd590>, 3): 2727.8793505401313,\n",
              " (<__main__.Recette at 0x7f04456dd590>, 4): 2634.5778063512894,\n",
              " (<__main__.Recette at 0x7f04456dd710>, 1): 2904.846486270657,\n",
              " (<__main__.Recette at 0x7f04456dd710>, 2): 2873.3667058229216,\n",
              " (<__main__.Recette at 0x7f04456dd710>, 3): 2867.759959101217,\n",
              " (<__main__.Recette at 0x7f04456dd710>, 4): 2871.9085928455834,\n",
              " (<__main__.Recette at 0x7f04456dd790>, 1): 2864.6608467958004,\n",
              " (<__main__.Recette at 0x7f04456dd790>, 2): 2833.180963474289,\n",
              " (<__main__.Recette at 0x7f04456dd790>, 3): 2827.5742611762735,\n",
              " (<__main__.Recette at 0x7f04456dd790>, 4): 2752.852394530211,\n",
              " (<__main__.Recette at 0x7f04456dd7d0>, 1): 2940.547887993866,\n",
              " (<__main__.Recette at 0x7f04456dd7d0>, 2): 2852.4451788439733,\n",
              " (<__main__.Recette at 0x7f04456dd7d0>, 3): 2846.8383453757756,\n",
              " (<__main__.Recette at 0x7f04456dd7d0>, 4): 2853.581220140423,\n",
              " (<__main__.Recette at 0x7f04456dd810>, 1): 2874.377967983513,\n",
              " (<__main__.Recette at 0x7f04456dd810>, 2): 2786.2752016183936,\n",
              " (<__main__.Recette at 0x7f04456dd810>, 3): 2780.6684032847115,\n",
              " (<__main__.Recette at 0x7f04456dd810>, 4): 2787.4112780493583,\n",
              " (<__main__.Recette at 0x7f04456dda10>, 1): 2592.63942702914,\n",
              " (<__main__.Recette at 0x7f04456dda10>, 2): 2593.51687008245,\n",
              " (<__main__.Recette at 0x7f04456dda10>, 3): 2587.91009854003,\n",
              " (<__main__.Recette at 0x7f04456dda10>, 4): 2411.5122748475555,\n",
              " (<__main__.Recette at 0x7f04457a5d90>, 1): 2681.872112227682,\n",
              " (<__main__.Recette at 0x7f04457a5d90>, 2): 2684.067589165649,\n",
              " (<__main__.Recette at 0x7f04457a5d90>, 3): 2684.0675693521653,\n",
              " (<__main__.Recette at 0x7f04457a5d90>, 4): 2688.821928429394,\n",
              " (<__main__.Recette at 0x7f04457d1c10>, 1): 2734.914399664782,\n",
              " (<__main__.Recette at 0x7f04457d1c10>, 2): 2731.5452072543308,\n",
              " (<__main__.Recette at 0x7f04457d1c10>, 3): 2726.5008986067305,\n",
              " (<__main__.Recette at 0x7f04457d1c10>, 4): 2796.7289429773396,\n",
              " (<__main__.Recette at 0x7f04458573d0>, 1): 2744.936441788829,\n",
              " (<__main__.Recette at 0x7f04458573d0>, 2): 2747.131917723258,\n",
              " (<__main__.Recette at 0x7f04458573d0>, 3): 2747.131925819908,\n",
              " (<__main__.Recette at 0x7f04458573d0>, 4): 2751.886284897137,\n",
              " (<__main__.Recette at 0x7f0445857c50>, 1): 2777.5988666781886,\n",
              " (<__main__.Recette at 0x7f0445857c50>, 2): 2774.2297072560696,\n",
              " (<__main__.Recette at 0x7f0445857c50>, 3): 0.0,\n",
              " (<__main__.Recette at 0x7f0445857c50>, 4): 2839.4134207325815,\n",
              " (<__main__.Recette at 0x7f04458a56d0>, 1): 2902.194706378804,\n",
              " (<__main__.Recette at 0x7f04458a56d0>, 2): 2898.8254811377187,\n",
              " (<__main__.Recette at 0x7f04458a56d0>, 3): 2893.781211195408,\n",
              " (<__main__.Recette at 0x7f04458a56d0>, 4): 2540.237740800874,\n",
              " (<__main__.Recette at 0x7f0445b016d0>, 1): 2883.786224574358,\n",
              " (<__main__.Recette at 0x7f0445b016d0>, 2): 2880.4170224811737,\n",
              " (<__main__.Recette at 0x7f0445b016d0>, 3): 2875.3727002849027,\n",
              " (<__main__.Recette at 0x7f0445b016d0>, 4): 2521.8292298903675,\n",
              " (<__main__.Recette at 0x7f0445d46cd0>, 1): 2820.571528661335,\n",
              " (<__main__.Recette at 0x7f0445d46cd0>, 2): 2822.766988234819,\n",
              " (<__main__.Recette at 0x7f0445d46cd0>, 3): 2822.766990400575,\n",
              " (<__main__.Recette at 0x7f0445d46cd0>, 4): 2827.521349477804,\n",
              " (<__main__.Recette at 0x7f0445e56c90>, 1): 2441.367048902219,\n",
              " (<__main__.Recette at 0x7f0445e56c90>, 2): 2482.323876166249,\n",
              " (<__main__.Recette at 0x7f0445e56c90>, 3): 2476.717100532008,\n",
              " (<__main__.Recette at 0x7f0445e56c90>, 4): 2448.316912652363,\n",
              " (<__main__.Recette at 0x7f0445e56d10>, 1): 2643.420239015316,\n",
              " (<__main__.Recette at 0x7f0445e56d10>, 2): 2644.2977008551875,\n",
              " (<__main__.Recette at 0x7f0445e56d10>, 3): 2638.690955438175,\n",
              " (<__main__.Recette at 0x7f0445e56d10>, 4): 2462.2931317457005,\n",
              " (<__main__.Recette at 0x7f0445e6c050>, 1): 2935.701929881997,\n",
              " (<__main__.Recette at 0x7f0445e6c050>, 2): 2904.222162972016,\n",
              " (<__main__.Recette at 0x7f0445e6c050>, 3): 2898.6153443152953,\n",
              " (<__main__.Recette at 0x7f0445e6c050>, 4): 2902.7639780596614,\n",
              " (<__main__.Recette at 0x7f0445e6c110>, 1): 2760.8408483305966,\n",
              " (<__main__.Recette at 0x7f0445e6c110>, 2): 2763.036395180075,\n",
              " (<__main__.Recette at 0x7f0445e6c110>, 3): 2763.036342950477,\n",
              " (<__main__.Recette at 0x7f0445e6c110>, 4): 2767.7907020277057,\n",
              " (<__main__.Recette at 0x7f0445e6c2d0>, 1): 2791.3773369672513,\n",
              " (<__main__.Recette at 0x7f0445e6c2d0>, 2): 2793.572889092682,\n",
              " (<__main__.Recette at 0x7f0445e6c2d0>, 3): 2793.572897581607,\n",
              " (<__main__.Recette at 0x7f0445e6c2d0>, 4): 2798.3272566588357,\n",
              " (<__main__.Recette at 0x7f0445e6c350>, 1): 2905.807646645487,\n",
              " (<__main__.Recette at 0x7f0445e6c350>, 2): 2902.438454235034,\n",
              " (<__main__.Recette at 0x7f0445e6c350>, 3): 2897.3941379328458,\n",
              " (<__main__.Recette at 0x7f0445e6c350>, 4): 2543.850667538311,\n",
              " (<__main__.Recette at 0x7f0445e6c790>, 1): 2639.2736928912377,\n",
              " (<__main__.Recette at 0x7f0445e6c790>, 2): 2641.469194921784,\n",
              " (<__main__.Recette at 0x7f0445e6c790>, 3): 2641.4691753817397,\n",
              " (<__main__.Recette at 0x7f0445e6c790>, 4): 2646.223534458968,\n",
              " (<__main__.Recette at 0x7f0445e6ca90>, 1): 2909.6409039743808,\n",
              " (<__main__.Recette at 0x7f0445e6ca90>, 2): 2878.1610569406303,\n",
              " (<__main__.Recette at 0x7f0445e6ca90>, 3): 2872.554302865068,\n",
              " (<__main__.Recette at 0x7f0445e6ca90>, 4): 2439.5080328198937,\n",
              " (<__main__.Recette at 0x7f0445e6cf90>, 1): 2916.931243495678,\n",
              " (<__main__.Recette at 0x7f0445e6cf90>, 2): 2885.4514091130823,\n",
              " (<__main__.Recette at 0x7f0445e6cf90>, 3): 2879.8446562381455,\n",
              " (<__main__.Recette at 0x7f0445e6cf90>, 4): 2883.993289982511,\n",
              " (<__main__.Recette at 0x7f0445eed410>, 1): 2973.0124368965376,\n",
              " (<__main__.Recette at 0x7f0445eed410>, 2): 2941.5325534936414,\n",
              " (<__main__.Recette at 0x7f0445eed410>, 3): 2935.925839827623,\n",
              " (<__main__.Recette at 0x7f0445eed410>, 4): 2940.0744735719895,\n",
              " (<__main__.Recette at 0x7f0445eed710>, 1): 2725.9827581700156,\n",
              " (<__main__.Recette at 0x7f0445eed710>, 2): 2728.178285397331,\n",
              " (<__main__.Recette at 0x7f0445eed710>, 3): 2728.178246970936,\n",
              " (<__main__.Recette at 0x7f0445eed710>, 4): 2732.9326060481644,\n",
              " (<__main__.Recette at 0x7f04469142d0>, 1): 2816.280753736089,\n",
              " (<__main__.Recette at 0x7f04469142d0>, 2): 2812.911491001857,\n",
              " (<__main__.Recette at 0x7f04469142d0>, 3): 2807.8672572307696,\n",
              " (<__main__.Recette at 0x7f04469142d0>, 4): 2809.607535347877,\n",
              " (<__main__.Recette at 0x7f0446a762d0>, 1): 2640.430755718036,\n",
              " (<__main__.Recette at 0x7f0446a762d0>, 2): 2617.2720084556227,\n",
              " (<__main__.Recette at 0x7f0446a762d0>, 3): 2612.2277371660834,\n",
              " (<__main__.Recette at 0x7f0446a762d0>, 4): 2682.4557815366925,\n",
              " (<__main__.Recette at 0x7f0446a76710>, 1): 2741.9260710030526,\n",
              " (<__main__.Recette at 0x7f0446a76710>, 2): 2742.8034664668126,\n",
              " (<__main__.Recette at 0x7f0446a76710>, 3): 2737.1966654185494,\n",
              " (<__main__.Recette at 0x7f0446a76710>, 4): 2560.7988417260754,\n",
              " (<__main__.Recette at 0x7f0446a76a10>, 1): 2729.5234022280047,\n",
              " (<__main__.Recette at 0x7f0446a76a10>, 2): 2730.4006836118697,\n",
              " (<__main__.Recette at 0x7f0446a76a10>, 3): 2724.79403123124,\n",
              " (<__main__.Recette at 0x7f0446a76a10>, 4): 2548.396207538766,\n",
              " (<__main__.Recette at 0x7f0446a76f90>, 1): 2764.7301614037556,\n",
              " (<__main__.Recette at 0x7f0446a76f90>, 2): 2765.607599039042,\n",
              " (<__main__.Recette at 0x7f0446a76f90>, 3): 2760.0008760974906,\n",
              " (<__main__.Recette at 0x7f0446a76f90>, 4): 2583.603052405017,\n",
              " (<__main__.Recette at 0x7f0446e3e0d0>, 1): 2628.153652712635,\n",
              " (<__main__.Recette at 0x7f0446e3e0d0>, 2): 2660.398887277306,\n",
              " (<__main__.Recette at 0x7f0446e3e0d0>, 3): 2654.7921395727967,\n",
              " (<__main__.Recette at 0x7f0446e3e0d0>, 4): 2635.103492997898,\n",
              " (<__main__.Recette at 0x7f0446e3e690>, 1): 2713.3246020140423,\n",
              " (<__main__.Recette at 0x7f0446e3e690>, 2): 2714.2020957819905,\n",
              " (<__main__.Recette at 0x7f0446e3e690>, 3): 2708.5953250016614,\n",
              " (<__main__.Recette at 0x7f0446e3e690>, 4): 2532.197501309187,\n",
              " (<__main__.Recette at 0x7f0446e3e7d0>, 1): 2735.2302082926585,\n",
              " (<__main__.Recette at 0x7f0446e3e7d0>, 2): 2736.107644656844,\n",
              " (<__main__.Recette at 0x7f0446e3e7d0>, 3): 2730.5008506568984,\n",
              " (<__main__.Recette at 0x7f0446e3e7d0>, 4): 2554.1030269644243,\n",
              " (<__main__.Recette at 0x7f0446e3ea10>, 1): 2917.602564217253,\n",
              " (<__main__.Recette at 0x7f0446e3ea10>, 2): 2914.2333982667687,\n",
              " (<__main__.Recette at 0x7f0446e3ea10>, 3): 2909.1890570501328,\n",
              " (<__main__.Recette at 0x7f0446e3ea10>, 4): 2910.9293351672404,\n",
              " (<__main__.Recette at 0x7f0446e3ed90>, 1): 2597.6028617203056,\n",
              " (<__main__.Recette at 0x7f0446e3ed90>, 2): 2629.848177868592,\n",
              " (<__main__.Recette at 0x7f0446e3ed90>, 3): 2624.2413896559237,\n",
              " (<__main__.Recette at 0x7f0446e3ed90>, 4): 2604.552743081026,\n",
              " (<__main__.Recette at 0x7f044778a310>, 1): 2765.785630987405,\n",
              " (<__main__.Recette at 0x7f044778a310>, 2): 2767.9811004518997,\n",
              " (<__main__.Recette at 0x7f044778a310>, 3): 2767.9810925768957,\n",
              " (<__main__.Recette at 0x7f044778a310>, 4): 2772.7354516541254,\n",
              " (<__main__.Recette at 0x7f0448557310>, 1): 2659.8469532034396,\n",
              " (<__main__.Recette at 0x7f0448557310>, 2): 2662.0425385369435,\n",
              " (<__main__.Recette at 0x7f0448557310>, 3): 2662.042492544015,\n",
              " (<__main__.Recette at 0x7f0448557310>, 4): 2666.7968516212436,\n",
              " (<__main__.Recette at 0x7f04485a4650>, 1): 2630.303432687313,\n",
              " (<__main__.Recette at 0x7f04485a4650>, 2): 2662.5486198561166,\n",
              " (<__main__.Recette at 0x7f04485a4650>, 3): 2656.9419195893547,\n",
              " (<__main__.Recette at 0x7f04485a4650>, 4): 2637.2532730144558,\n",
              " (<__main__.Recette at 0x7f0449b72490>, 1): 2703.009472046229,\n",
              " (<__main__.Recette at 0x7f0449b72490>, 2): 2735.254723120526,\n",
              " (<__main__.Recette at 0x7f0449b72490>, 3): 2729.6479694200993,\n",
              " (<__main__.Recette at 0x7f0449b72490>, 4): 2709.959322845201,\n",
              " (<__main__.Recette at 0x7f0449b72890>, 1): 2813.6074404227843,\n",
              " (<__main__.Recette at 0x7f0449b72890>, 2): 2782.1275933890342,\n",
              " (<__main__.Recette at 0x7f0449b72890>, 3): 2776.5208281390933,\n",
              " (<__main__.Recette at 0x7f0449b72890>, 4): 2343.4745580939193,\n",
              " (<__main__.Recette at 0x7f044b3935d0>, 1): 2856.0339935620614,\n",
              " (<__main__.Recette at 0x7f044b3935d0>, 2): 2852.664867836964,\n",
              " (<__main__.Recette at 0x7f044b3935d0>, 3): 2847.6205147132364,\n",
              " (<__main__.Recette at 0x7f044b3935d0>, 4): 2841.484434182669}"
            ]
          },
          "metadata": {},
          "execution_count": 376
        }
      ]
    },
    {
      "cell_type": "code",
      "source": [
        "cost_market_province = {}\n",
        "provinces = cout_transport_aval.columns\n",
        "nombre_recette_province= {}\n",
        "for periode in periodes : \n",
        "  for province in  provinces : \n",
        "    cost_market_province[province, periode] =0\n",
        "    nombre_recette_province[province,periode] = 0\n",
        "for periode in periodes :\n",
        "  for recette in list_recettes:\n",
        "    cost_market_province[recette.location ,periode] += cost_to_market[r,periode]\n",
        "    #print(recette.location)\n",
        "    nombre_recette_province[recette.location, periode] += 1\n",
        "    #print(recette.location , cost_market_province[recette.location] )\n",
        "for periode in periodes:\n",
        "  for province in  provinces : \n",
        "    cost_market_province[province,periode] = cost_market_province[province,periode] / nombre_recette_province[recette.location, periode] \n",
        "cost_market_province"
      ],
      "metadata": {
        "id": "fIa0cfPEzFQ9",
        "colab": {
          "base_uri": "https://localhost:8080/"
        },
        "outputId": "47c4dfcd-e3b0-4e70-918f-7ed40e8c9005"
      },
      "execution_count": null,
      "outputs": [
        {
          "output_type": "execute_result",
          "data": {
            "text/plain": [
              "{('Agadir Ida-Outanane', 1): 2012.064577588459,\n",
              " ('Agadir Ida-Outanane', 2): 1950.3926411328757,\n",
              " ('Agadir Ida-Outanane', 3): 1946.467882299298,\n",
              " ('Agadir Ida-Outanane', 4): 1951.187894634551,\n",
              " ('Benslimane', 1): 2299.5023743868105,\n",
              " ('Benslimane', 2): 2229.0201612947153,\n",
              " ('Benslimane', 3): 2224.534722627769,\n",
              " ('Benslimane', 4): 2229.929022439487,\n",
              " ('Casablanca', 1): 1724.6267807901077,\n",
              " ('Casablanca', 2): 1671.7651209710361,\n",
              " ('Casablanca', 3): 1668.401041970827,\n",
              " ('Casablanca', 4): 1672.4467668296152,\n",
              " ('Chefchaouen', 1): 2586.9401711851615,\n",
              " ('Chefchaouen', 2): 2507.647681456555,\n",
              " ('Chefchaouen', 3): 2502.6015629562403,\n",
              " ('Chefchaouen', 4): 2508.670150244423,\n",
              " ('El Jadida', 1): 2874.377967983513,\n",
              " ('El Jadida', 2): 2786.275201618394,\n",
              " ('El Jadida', 3): 2780.6684032847115,\n",
              " ('El Jadida', 4): 2787.4112780493588}"
            ]
          },
          "metadata": {},
          "execution_count": 379
        }
      ]
    },
    {
      "cell_type": "code",
      "source": [
        ""
      ],
      "metadata": {
        "id": "fH-lpOQS2p1I"
      },
      "execution_count": null,
      "outputs": []
    },
    {
      "cell_type": "markdown",
      "source": [
        "Model Output"
      ],
      "metadata": {
        "id": "F25fGsF5NAVF"
      }
    },
    {
      "cell_type": "code",
      "source": [
        "result = Workbook()"
      ],
      "metadata": {
        "id": "pMd0Csi5NFSk"
      },
      "execution_count": null,
      "outputs": []
    },
    {
      "cell_type": "code",
      "source": [
        "\n",
        "\n",
        "\"\"\"## Cost to supply\"\"\"\n",
        "\n",
        "sheet = result.active\n",
        "sheet.title = \"Cost_to_supply\"\n",
        "header = ['Supply', 'MP', 'periode', 'volume_s' , 'cost_s', 'average_cost_supply']\n",
        "i=1\n",
        "for head in header :\n",
        "    cell = sheet.cell(row=1, column=i, value=head)\n",
        "    i+=1\n",
        "Supply = [(s,m,t) for s in list_suppliers for m in list_mp for t in periodes]\n",
        "i=2\n",
        "for supplier in Supply :\n",
        "    c1=sheet.cell(row=i, column=1, value= supplier[0].location)\n",
        "    c2=sheet.cell(row=i, column=2, value= supplier[1])\n",
        "    c3=sheet.cell(row=i, column=3, value= 'Q'+str(supplier[2]))\n",
        "    volume_s=sum(Flow_Supply_StorageMP[supplier[0],st,supplier[1],supplier[2]].value() for st in list_stockages) + sum(Flow_Supply_Blender[supplier[0],b,supplier[1],supplier[2]].value() for b in list_blenders)\n",
        "    c4=sheet.cell(row=i, column=4, value= volume_s)\n",
        "    cost_s=sum(prix_mp[supplier[1]]*Flow_Supply_StorageMP[supplier[0],st,supplier[1],supplier[2]].value() for st in list_stockages) \n",
        "    + sum(prix_mp[supplier[1]]*Flow_Supply_Blender[supplier[0],b,supplier[1],supplier[2]].value() for b in list_blenders)\n",
        "    c5=sheet.cell(row=i, column=5, value= cost_s)\n",
        "    if(volume_s!=0) :\n",
        "        c6=sheet.cell(row=i, column=6, value= cost_s/volume_s)\n",
        "    i+=1\n",
        "\n",
        "\"\"\"## Flow from supply to storage MP\"\"\"\n",
        "\n",
        "sheet = result.create_sheet()\n",
        "sheet.title = \"flow_supply_stockage_mp\"\n",
        "header = ['Supply', 'Stockage_MP', 'Matiere_premiere', 'Periode', 'Quantité', 'freight_cost', 'cost_stock_total', 'average_cost_stock_mp']\n",
        "i=1\n",
        "for head in header :\n",
        "    cell = sheet.cell(row=1, column=i, value=head)\n",
        "    i+=1\n",
        "i=2\n",
        "for element in Supply_StorageMP :\n",
        "    c1=sheet.cell(row=i, column=1, value=element[0].location)\n",
        "    c2=sheet.cell(row=i, column=2, value=element[1].location)\n",
        "    c3=sheet.cell(row=i, column=3, value=element[2])\n",
        "    c4=sheet.cell(row=i, column=4, value='Q'+str(element[3]))\n",
        "    Quantité=Flow_Supply_StorageMP[element].value()\n",
        "    c5=sheet.cell(row=i, column=5, value=Quantité)\n",
        "    freight_cost=cout_transport_amont.loc[element[1].location,element[0].location]\n",
        "    c6=sheet.cell(row=i, column=6, value=freight_cost)\n",
        "    cost_stock_total=Quantité*(prix_mp[element[2]]+freight_cost)\n",
        "    c7=sheet.cell(row=i, column=7, value=cost_stock_total)\n",
        "    if(Quantité!=0) :\n",
        "        c8=sheet.cell(row=i, column=8, value=cost_stock_total/Quantité)\n",
        "    i+=1\n",
        "\n",
        "\"\"\"## Flow from supply to blenders\"\"\"\n",
        "\n",
        "sheet = result.create_sheet()\n",
        "sheet.title = \"flow_supply_blender\"\n",
        "header = ['Supply', 'Blender', 'Matiere_premiere', 'Periode', 'Type of Blender', 'Quantité', 'freight_cost', 'cost_blender_total', 'average_cost_blender']\n",
        "i=1\n",
        "for head in header :\n",
        "    cell = sheet.cell(row=1, column=i, value=head)\n",
        "    i+=1\n",
        "i=2\n",
        "for element in Supply_Blender :\n",
        "    c1=sheet.cell(row=i, column=1, value=element[0].location)\n",
        "    c2=sheet.cell(row=i, column=2, value=element[1].location)\n",
        "    c3=sheet.cell(row=i, column=3, value=element[2])\n",
        "    c4=sheet.cell(row=i, column=4, value='Q'+str(element[3]))\n",
        "    c5=sheet.cell(row=i, column=5, value=element[1].type)\n",
        "    Quantité=Flow_Supply_Blender[element].value()\n",
        "    c6=sheet.cell(row=i, column=6, value=Quantité)\n",
        "    freight_cost=cout_transport_amont.loc[element[1].location,element[0].location]\n",
        "    c7=sheet.cell(row=i, column=7, value=freight_cost)\n",
        "    cost_blender_total=Quantité*(prix_mp[element[2]]+freight_cost)\n",
        "    c8=sheet.cell(row=i, column=8, value=cost_blender_total)\n",
        "    if(Quantité!=0) :\n",
        "        c9=sheet.cell(row=i, column=9, value=cost_blender_total/Quantité)\n",
        "    i+=1\n",
        "\n",
        "\"\"\"## Flow storage MP to blender\"\"\"\n",
        "\n",
        "sheet = result.create_sheet()\n",
        "sheet.title = \"flow_stockage_mp_blender\"\n",
        "header = ['Stockage_MP', 'Blender', 'Matiere_premiere', 'Periode', 'Type of Blender', 'Quantité', 'freight_cost', 'cost_stock_blender_total', 'average_cost_stock_blender']\n",
        "i=1\n",
        "for head in header :\n",
        "    cell = sheet.cell(row=1, column=i, value=head)\n",
        "    i+=1\n",
        "i=2\n",
        "for element in StorageMP_Blender :\n",
        "    c1=sheet.cell(row=i, column=1, value=element[0].location)\n",
        "    c2=sheet.cell(row=i, column=2, value=element[1].location)\n",
        "    c3=sheet.cell(row=i, column=3, value=element[2])\n",
        "    c4=sheet.cell(row=i, column=4, value='Q'+str(element[3]))\n",
        "    c5=sheet.cell(row=i, column=5, value=element[1].type)\n",
        "    Quantité=Flow_StorageMP_Blender[element].value()\n",
        "    c6=sheet.cell(row=i, column=6, value=Quantité)\n",
        "    freight_cost=cout_transport_aval.loc[element[0].location,element[1].location]\n",
        "    c7=sheet.cell(row=i, column=7, value=freight_cost)\n",
        "    cost_stock_blender_total=Quantité*(prix_mp[element[2]]+freight_cost)\n",
        "    c8=sheet.cell(row=i, column=8, value=cost_stock_blender_total)\n",
        "    if(Quantité!=0) :\n",
        "        c9=sheet.cell(row=i, column=9, value=cost_stock_blender_total/Quantité)\n",
        "    i+=1\n",
        "\n",
        "\"\"\"## Cost into blenders\"\"\"\n",
        "\n",
        "sheet = result.create_sheet()\n",
        "sheet.title = \"cost_to_blender\"\n",
        "header = ['Blender', 'MP', 'periode', 'Type of Blender', 'volume_ocp', 'cost_ocp', 'volume_st', 'cost_st', 'average_cost_b']\n",
        "i=1\n",
        "for head in header :\n",
        "    cell = sheet.cell(row=1, column=i, value=head)\n",
        "    i+=1\n",
        "Blenders = [(b,m,t) for b in list_blenders for m in list_mp for t in periodes]\n",
        "i=2\n",
        "for blender in Blenders :\n",
        "    c1=sheet.cell(row=i, column=1, value=blender[0].location)\n",
        "    c2=sheet.cell(row=i, column=2, value=blender[1])\n",
        "    c3=sheet.cell(row=i, column=3, value='Q'+str(blender[2]))\n",
        "    c4=sheet.cell(row=i, column=4, value=blender[0].type)\n",
        "    volume_ocp=sum(Flow_Supply_Blender[s,blender[0],blender[1],blender[2]].value() for s in list_suppliers)\n",
        "    c5=sheet.cell(row=i, column=5, value=volume_ocp)\n",
        "    cost=Cout_blending*Active_Blender[blender[0],blender[2]].value()+Cout_smart_blending*Active_SBlender[blender[0],blender[2]].value()\n",
        "    cost_ocp=sum((cout_transport_amont.loc[blender[0].location,s.location]+cost+prix_mp[blender[1]])*Flow_Supply_Blender[s,blender[0],blender[1],blender[2]].value() for s in list_suppliers)\n",
        "    c6=sheet.cell(row=i, column=6, value=cost_ocp)\n",
        "    volume_st=sum(Flow_StorageMP_Blender[st,blender[0],blender[1],blender[2]].value() for st in list_stockages)\n",
        "    c7=sheet.cell(row=i, column=7, value=volume_st)\n",
        "    cost_st=sum((cout_transport_aval.loc[st.location,blender[0].location]+cost+prix_mp[blender[1]]+Cout_de_stockage_MP)*Flow_StorageMP_Blender[st,blender[0],blender[1],blender[2]].value() for st in list_stockages)\n",
        "    c8=sheet.cell(row=i, column=8, value=cost_st)\n",
        "    if(volume_ocp+volume_st!=0) :\n",
        "        c9=sheet.cell(row=i, column=9, value=(cost_ocp+cost_st)/(volume_ocp+volume_st))\n",
        "    i+=1\n",
        "\n",
        "\"\"\"## Flow from blender to storage\"\"\"\n",
        "\n",
        "sheet = result.create_sheet()\n",
        "sheet.title = \"flow_blender_stockage\"\n",
        "header = ['Blender', 'Stockage_Engrais', 'Province', 'Culture', 'Periode', 'Quantité', 'freight_cost', 'cost_to_stock', 'average_cost_st']\n",
        "i=1\n",
        "for head in header :\n",
        "    cell = sheet.cell(row=1, column=i, value=head)\n",
        "    i+=1\n",
        "i=2\n",
        "for element in Blender_StorageFertlizer :\n",
        "    c1=sheet.cell(row=i, column=1, value=element[0].location)\n",
        "    c2=sheet.cell(row=i, column=2, value=element[1].location)\n",
        "    c3=sheet.cell(row=i, column=3, value=element[2].location)\n",
        "    c4=sheet.cell(row=i, column=4, value=element[2].nom)\n",
        "    c5=sheet.cell(row=i, column=5, value='Q'+str(element[3]))\n",
        "    Quantité=Flow_Blender_StorageFertlizer[element].value()\n",
        "    c6=sheet.cell(row=i, column=6, value=Quantité)\n",
        "    freight_cost=cout_transport_aval.loc[element[0].location,element[1].location]\n",
        "    c7=sheet.cell(row=i, column=7, value=freight_cost)\n",
        "    cost_to_stock=Quantité*(prix_recette[element[2]]+freight_cost)\n",
        "    c8=sheet.cell(row=i, column=8, value=cost_to_stock)\n",
        "    if(Quantité!=0) :\n",
        "        c9=sheet.cell(row=i, column=9, value=cost_to_stock/Quantité)\n",
        "    i+=1\n",
        "\n",
        "\"\"\"## Flow from blender to province\"\"\"\n",
        "\n",
        "sheet = result.create_sheet()\n",
        "sheet.title = \"flow_blender_province\"\n",
        "header = ['Blender', 'Province', 'Culture', 'Periode', 'Type of Blender', 'Quantité', 'freight_cost', 'cost_to_province', 'average_cost_p']\n",
        "i=1\n",
        "for head in header :\n",
        "    cell = sheet.cell(row=1, column=i, value=head)\n",
        "    i+=1\n",
        "i=2\n",
        "for element in Blender_Province :\n",
        "    c1=sheet.cell(row=i, column=1, value=element[0].location)\n",
        "    c2=sheet.cell(row=i, column=2, value=element[1].location)\n",
        "    c3=sheet.cell(row=i, column=3, value=element[1].nom)\n",
        "    c4=sheet.cell(row=i, column=4, value='Q'+str(element[2]))\n",
        "    c5=sheet.cell(row=i, column=5, value=element[0].type)\n",
        "    Quantité=Flow_Blender_Province[element].value()\n",
        "    c6=sheet.cell(row=i, column=6, value=Quantité)\n",
        "    freight_cost=cout_transport_aval.loc[element[0].location,element[1].location]\n",
        "    c7=sheet.cell(row=i, column=7, value=freight_cost)\n",
        "    cost_to_province=Quantité*(freight_cost+prix_recette[element[1]])\n",
        "    c8=sheet.cell(row=i, column=8, value=cost_to_province)\n",
        "    if(Quantité!=0) :\n",
        "        c9=sheet.cell(row=i, column=9, value=cost_to_province/Quantité)\n",
        "    i+=1\n",
        "\n",
        "\"\"\"## Flow from storage to province\"\"\"\n",
        "\n",
        "sheet = result.create_sheet()\n",
        "sheet.title = \"flow_stockage_province\"\n",
        "header = ['Stockage_Engrais', 'Province', 'Culture', 'Periode', 'Quantité', 'freight_cost', 'average_cost_p', 'Total_cost']\n",
        "i=1\n",
        "for head in header :\n",
        "    cell = sheet.cell(row=1, column=i, value=head)\n",
        "    i+=1\n",
        "i=2\n",
        "for element in StorageFertlizer_Province :\n",
        "    c1=sheet.cell(row=i, column=1, value=element[0].location)\n",
        "    c2=sheet.cell(row=i, column=2, value=element[1].location)\n",
        "    c3=sheet.cell(row=i, column=3, value=element[1].nom)\n",
        "    c4=sheet.cell(row=i, column=4, value='Q'+str(element[2]))\n",
        "    Quantité=Flow_StorageFertlizer_Province[element].value()\n",
        "    c5=sheet.cell(row=i, column=5, value=Quantité)\n",
        "    freight_cost=cout_transport_aval.loc[element[0].location,element[1].location]\n",
        "    c6=sheet.cell(row=i, column=6, value=freight_cost)\n",
        "    Total_cost=Quantité*(freight_cost+prix_recette[element[1]])\n",
        "    c8=sheet.cell(row=i, column=8, value=Total_cost)\n",
        "    if(Quantité!=0) :\n",
        "        c7=sheet.cell(row=i, column=7, value=Total_cost/Quantité)\n",
        "    i+=1\n",
        "\n",
        "\"\"\"## Cost to province\"\"\"\n",
        "\n",
        "sheet = result.create_sheet()\n",
        "sheet.title = \"Cost_to_province\"\n",
        "header = ['province', 'culture', 'periode', 'volume_b', 'cost_b', 'volume_se', 'cost_se', 'average_cost_p', 'volume_total', 'marge_distr', 'marge_revend']\n",
        "i=1\n",
        "for head in header :\n",
        "    cell = sheet.cell(row=1, column=i, value=head)\n",
        "    i+=1\n",
        "i=2\n",
        "for recette in recette_periode :\n",
        "    c1=sheet.cell(row=i, column=1, value=recette[0].location)\n",
        "    c2=sheet.cell(row=i, column=2, value=recette[0].nom)\n",
        "    c3=sheet.cell(row=i, column=3, value='Q'+str(recette[1]))\n",
        "    volume_b=sum(Flow_Blender_Province[b,recette[0],recette[1]].value() for b in list_blenders)\n",
        "    c4=sheet.cell(row=i, column=4, value=volume_b)\n",
        "    cost_b=sum((cout_transport_aval.loc[b.location,recette[0].location]+prix_recette[recette[0]])*Flow_Blender_Province[b,recette[0],recette[1]].value() for b in list_blenders)\n",
        "    c5=sheet.cell(row=i, column=5, value=cost_b)\n",
        "    volume_se=sum(Flow_StorageFertlizer_Province[st,recette[0],recette[1]].value() for st in list_stockages)\n",
        "    c6=sheet.cell(row=i, column=6, value=volume_se)\n",
        "    cost_se=sum((cout_transport_aval.loc[st.location,recette[0].location]+prix_recette[recette[0]]+Cout_de_stockage_Engrais)*Flow_StorageFertlizer_Province[st,recette[0],recette[1]].value() for st in list_stockages)\n",
        "    c7=sheet.cell(row=i, column=7, value=cost_se)\n",
        "    c9=sheet.cell(row=i, column=9, value=volume_b+volume_se)\n",
        "    if(volume_b+volume_se!=0):\n",
        "        average_cost_p=(cost_b+cost_se)/(volume_b+volume_se)\n",
        "        c8=sheet.cell(row=i, column=8, value=average_cost_p)\n",
        "        c10=sheet.cell(row=i, column=10, value=average_cost_p*1.06)\n",
        "        c11=sheet.cell(row=i, column=11, value=average_cost_p*1.08)\n",
        "    i+=1\n",
        "\n",
        "\"\"\"## Stock of raw materials\"\"\"\n",
        "\n",
        "sheet = result.create_sheet()\n",
        "sheet.title = \"stock_fin_periode_mp\"\n",
        "header = ['Stockage_MP', 'Matiere premiere', 'Periode', 'Quantité']\n",
        "i=1\n",
        "for head in header :\n",
        "    cell = sheet.cell(row=1, column=i, value=head)\n",
        "    i+=1\n",
        "i=2\n",
        "for stock in stock_mp_list :\n",
        "    c1=sheet.cell(row=i, column=1, value=stock[0].location)\n",
        "    c2=sheet.cell(row=i, column=2, value=stock[1])\n",
        "    c3=sheet.cell(row=i, column=3, value='Q'+str(stock[2]))\n",
        "    Quantité=stock_mp_disponible[stock].value()\n",
        "    c4=sheet.cell(row=i, column=4, value=Quantité)\n",
        "    i+=1\n",
        "\n",
        "\"\"\"## Stock of final products\"\"\"\n",
        "\n",
        "sheet = result.create_sheet()\n",
        "sheet.title = \"stock_fin_periode_engrais\"\n",
        "header = ['Stockage_Engrais', 'Province', 'Culture', 'Periode', 'Quantité', 'cost']\n",
        "i=1\n",
        "for head in header :\n",
        "    cell = sheet.cell(row=1, column=i, value=head)\n",
        "    i+=1\n",
        "i=2\n",
        "for stock in stock_pf_list :\n",
        "    c1=sheet.cell(row=i, column=1, value=stock[0].location)\n",
        "    c2=sheet.cell(row=i, column=2, value=stock[1].location)\n",
        "    c3=sheet.cell(row=i, column=3, value=stock[1].nom)\n",
        "    c4=sheet.cell(row=i, column=4, value='Q'+str(stock[2]))\n",
        "    Quantité=stock_pf_disponible[stock].value()\n",
        "    c5=sheet.cell(row=i, column=5, value=Quantité)\n",
        "    cost=Cout_de_stockage_Engrais*Quantité\n",
        "    c6=sheet.cell(row=i, column=6, value=cost)\n",
        "    i+=1\n",
        "\n",
        "\"\"\"## Reliquat_Demand\"\"\"\n",
        "\n",
        "sheet = result.create_sheet()\n",
        "sheet.title = \"reliquat\"\n",
        "header = ['Province', 'Culture', 'Periode', 'Quantité', 'cost']\n",
        "i=1\n",
        "for head in header :\n",
        "    cell = sheet.cell(row=1, column=i, value=head)\n",
        "    i+=1\n",
        "i=2\n",
        "for reliquat in recette_periode :\n",
        "    c1=sheet.cell(row=i, column=1, value=reliquat[0].location)\n",
        "    c2=sheet.cell(row=i, column=2, value=reliquat[0].nom)\n",
        "    c3=sheet.cell(row=i, column=3, value='Q'+str(reliquat[1]))\n",
        "    Quantité=reliquat_demande[reliquat].value()\n",
        "    c4=sheet.cell(row=i, column=4, value=Quantité)\n",
        "    cost=Cout_de_rupture*Quantité\n",
        "    c5=sheet.cell(row=i, column=5, value=cost)\n",
        "    i+=1\n",
        "\n",
        "\"\"\"## Activation of blenders and smart blenders\n",
        "\n",
        "### Active_B\n",
        "\"\"\"\n",
        "\n",
        "sheet = result.create_sheet()\n",
        "sheet.title = \"Active_B\"\n",
        "header = ['Blender', 'periode', 'Active_b']\n",
        "i=1\n",
        "for head in header :\n",
        "    cell = sheet.cell(row=1, column=i, value=head)\n",
        "    i+=1\n",
        "i=2\n",
        "for blender in blender_periodes :\n",
        "    c1=sheet.cell(row=i, column=1, value=blender[0].location)\n",
        "    c2=sheet.cell(row=i, column=2, value='Q'+str(blender[1]))\n",
        "    c3=sheet.cell(row=i, column=3, value=Active_Blender[blender].value())\n",
        "    i+=1\n",
        "\n",
        "\"\"\"### Active_SB\"\"\"\n",
        "\n",
        "sheet = result.create_sheet()\n",
        "sheet.title = \"Active_SB\"\n",
        "header = ['Blender', 'periode', 'Active_sb']\n",
        "i=1\n",
        "for head in header :\n",
        "    cell = sheet.cell(row=1, column=i, value=head)\n",
        "    i+=1\n",
        "i=2\n",
        "for blender in blender_periodes :\n",
        "    c1=sheet.cell(row=i, column=1, value=blender[0].location)\n",
        "    c2=sheet.cell(row=i, column=2, value='Q'+str(blender[1]))\n",
        "    c3=sheet.cell(row=i, column=3, value=Active_SBlender[blender].value())\n",
        "    i+=1\n",
        "\n",
        "\"\"\"## Activation of upstream and downstream warehouses\n",
        "\n",
        "### Active_stock_amont\n",
        "\"\"\"\n",
        "\n",
        "sheet = result.create_sheet()\n",
        "sheet.title = \"Active_stock_amont\"\n",
        "header = ['Stockage_MP', 'periode', 'Active_St']\n",
        "i=1\n",
        "for head in header :\n",
        "    cell = sheet.cell(row=1, column=i, value=head)\n",
        "    i+=1\n",
        "i=2\n",
        "for stock in storage_periodes :\n",
        "    c1=sheet.cell(row=i, column=1, value=stock[0].location)\n",
        "    c2=sheet.cell(row=i, column=2, value='Q'+str(stock[1]))\n",
        "    c3=sheet.cell(row=i, column=3, value=Storage_investement[stock].value())\n",
        "    i+=1\n",
        "\n",
        "\"\"\"### Active_stock_aval\"\"\"\n",
        "\n",
        "sheet = result.create_sheet()\n",
        "sheet.title = \"Active_stock_aval\"\n",
        "header = ['Stockage_aval', 'periode', 'Active_St']\n",
        "i=1\n",
        "for head in header :\n",
        "    cell = sheet.cell(row=1, column=i, value=head)\n",
        "    i+=1\n",
        "i=2\n",
        "for stock in storage_periodes :\n",
        "    c1=sheet.cell(row=i, column=1, value=stock[0].location)\n",
        "    c2=sheet.cell(row=i, column=2, value='Q'+str(stock[1]))\n",
        "    c3=sheet.cell(row=i, column=3, value=Storage_investement[stock].value())\n",
        "    i+=1\n",
        "\n",
        "\"\"\"## Saving the Excel file\"\"\"\n",
        "\n",
        "result.save(\"Result.xlsx\")"
      ],
      "metadata": {
        "id": "G9054aAoNOtl"
      },
      "execution_count": null,
      "outputs": []
    }
  ]
}